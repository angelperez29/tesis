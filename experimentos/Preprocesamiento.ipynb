{
 "cells": [
  {
   "cell_type": "code",
   "execution_count": 1,
   "id": "d9b3e08b",
   "metadata": {
    "ExecuteTime": {
     "end_time": "2021-06-07T22:05:46.570711Z",
     "start_time": "2021-06-07T22:05:33.654254Z"
    }
   },
   "outputs": [],
   "source": [
    "import spacy as sp, pandas as pd\n",
    "from nltk import SnowballStemmer\n",
    "spanishstemmer=SnowballStemmer('spanish')\n",
    "nlp = sp.load('es_core_news_sm')"
   ]
  },
  {
   "cell_type": "code",
   "execution_count": 2,
   "id": "278c6a82",
   "metadata": {
    "ExecuteTime": {
     "end_time": "2021-06-07T22:05:46.710778Z",
     "start_time": "2021-06-07T22:05:46.577773Z"
    }
   },
   "outputs": [],
   "source": [
    "df = pd.read_csv('../../../data/dataset_tesis/twitter/mergeData.csv')"
   ]
  },
  {
   "cell_type": "code",
   "execution_count": 3,
   "id": "998cb83a",
   "metadata": {
    "ExecuteTime": {
     "end_time": "2021-06-07T22:05:46.871138Z",
     "start_time": "2021-06-07T22:05:46.731890Z"
    }
   },
   "outputs": [
    {
     "data": {
      "text/html": [
       "<div>\n",
       "<style scoped>\n",
       "    .dataframe tbody tr th:only-of-type {\n",
       "        vertical-align: middle;\n",
       "    }\n",
       "\n",
       "    .dataframe tbody tr th {\n",
       "        vertical-align: top;\n",
       "    }\n",
       "\n",
       "    .dataframe thead th {\n",
       "        text-align: right;\n",
       "    }\n",
       "</style>\n",
       "<table border=\"1\" class=\"dataframe\">\n",
       "  <thead>\n",
       "    <tr style=\"text-align: right;\">\n",
       "      <th></th>\n",
       "      <th>Date</th>\n",
       "      <th>Screen Name</th>\n",
       "      <th>Full Name</th>\n",
       "      <th>Tweet Text</th>\n",
       "      <th>Tweet ID</th>\n",
       "      <th>Retweets</th>\n",
       "      <th>Favorites</th>\n",
       "      <th>App</th>\n",
       "      <th>Followers</th>\n",
       "      <th>Follows</th>\n",
       "      <th>Listed</th>\n",
       "      <th>User Since</th>\n",
       "    </tr>\n",
       "  </thead>\n",
       "  <tbody>\n",
       "    <tr>\n",
       "      <th>0</th>\n",
       "      <td>2020-10-24 14:05:16</td>\n",
       "      <td>@IpasMEX</td>\n",
       "      <td>Ipas México</td>\n",
       "      <td>\"Cuando Rubí es asesinada por su novio, Marise...</td>\n",
       "      <td>1320109126593044481</td>\n",
       "      <td>0</td>\n",
       "      <td>4</td>\n",
       "      <td>Twitter for iPhone</td>\n",
       "      <td>4021</td>\n",
       "      <td>643</td>\n",
       "      <td>42</td>\n",
       "      <td>41771.6843402778</td>\n",
       "    </tr>\n",
       "    <tr>\n",
       "      <th>1</th>\n",
       "      <td>2020-10-24 06:00:01</td>\n",
       "      <td>@_interseccional</td>\n",
       "      <td>INTERSECCIONAL 🏳️‍🌈 🏳️‍⚧️</td>\n",
       "      <td>En diferentes partes de mundo🌎están asesinando...</td>\n",
       "      <td>1319987009104965634</td>\n",
       "      <td>1</td>\n",
       "      <td>0</td>\n",
       "      <td>Twitter Web App</td>\n",
       "      <td>207</td>\n",
       "      <td>214</td>\n",
       "      <td>3</td>\n",
       "      <td>43816.5469907407</td>\n",
       "    </tr>\n",
       "    <tr>\n",
       "      <th>2</th>\n",
       "      <td>2020-10-24 05:03:52</td>\n",
       "      <td>@VocesDLAusencia</td>\n",
       "      <td>Voces De La Ausencia</td>\n",
       "      <td>Laura Melisa Velázquez Sánchez tenia 20, cuand...</td>\n",
       "      <td>1319972876674584577</td>\n",
       "      <td>57</td>\n",
       "      <td>40</td>\n",
       "      <td>Twitter for iPhone</td>\n",
       "      <td>2794</td>\n",
       "      <td>246</td>\n",
       "      <td>5</td>\n",
       "      <td>43315.3385069444</td>\n",
       "    </tr>\n",
       "    <tr>\n",
       "      <th>3</th>\n",
       "      <td>2020-10-24 04:37:26</td>\n",
       "      <td>@VocesDLAusencia</td>\n",
       "      <td>Voces De La Ausencia</td>\n",
       "      <td>Lizbeth Mendoza Gómez nació el 18/10/1998, ten...</td>\n",
       "      <td>1319966225414410240</td>\n",
       "      <td>14</td>\n",
       "      <td>23</td>\n",
       "      <td>Twitter for iPhone</td>\n",
       "      <td>2794</td>\n",
       "      <td>246</td>\n",
       "      <td>5</td>\n",
       "      <td>43315.3385069444</td>\n",
       "    </tr>\n",
       "    <tr>\n",
       "      <th>4</th>\n",
       "      <td>2020-10-24 02:00:46</td>\n",
       "      <td>@_Seleneesgenial</td>\n",
       "      <td>Selene es lo máximo.</td>\n",
       "      <td>Acabo de terminar de ver #LasTresMuertesDeMari...</td>\n",
       "      <td>1319926797702733824</td>\n",
       "      <td>0</td>\n",
       "      <td>0</td>\n",
       "      <td>Twitter for Android</td>\n",
       "      <td>318</td>\n",
       "      <td>70</td>\n",
       "      <td>0</td>\n",
       "      <td>41328.7664236111</td>\n",
       "    </tr>\n",
       "  </tbody>\n",
       "</table>\n",
       "</div>"
      ],
      "text/plain": [
       "                  Date       Screen Name                  Full Name  \\\n",
       "0  2020-10-24 14:05:16          @IpasMEX                Ipas México   \n",
       "1  2020-10-24 06:00:01  @_interseccional  INTERSECCIONAL 🏳️‍🌈 🏳️‍⚧️   \n",
       "2  2020-10-24 05:03:52  @VocesDLAusencia       Voces De La Ausencia   \n",
       "3  2020-10-24 04:37:26  @VocesDLAusencia       Voces De La Ausencia   \n",
       "4  2020-10-24 02:00:46  @_Seleneesgenial       Selene es lo máximo.   \n",
       "\n",
       "                                          Tweet Text             Tweet ID  \\\n",
       "0  \"Cuando Rubí es asesinada por su novio, Marise...  1320109126593044481   \n",
       "1  En diferentes partes de mundo🌎están asesinando...  1319987009104965634   \n",
       "2  Laura Melisa Velázquez Sánchez tenia 20, cuand...  1319972876674584577   \n",
       "3  Lizbeth Mendoza Gómez nació el 18/10/1998, ten...  1319966225414410240   \n",
       "4  Acabo de terminar de ver #LasTresMuertesDeMari...  1319926797702733824   \n",
       "\n",
       "   Retweets  Favorites                  App  Followers  Follows  Listed  \\\n",
       "0         0          4   Twitter for iPhone       4021      643      42   \n",
       "1         1          0      Twitter Web App        207      214       3   \n",
       "2        57         40   Twitter for iPhone       2794      246       5   \n",
       "3        14         23   Twitter for iPhone       2794      246       5   \n",
       "4         0          0  Twitter for Android        318       70       0   \n",
       "\n",
       "         User Since  \n",
       "0  41771.6843402778  \n",
       "1  43816.5469907407  \n",
       "2  43315.3385069444  \n",
       "3  43315.3385069444  \n",
       "4  41328.7664236111  "
      ]
     },
     "execution_count": 3,
     "metadata": {},
     "output_type": "execute_result"
    }
   ],
   "source": [
    "df.head(5)"
   ]
  },
  {
   "cell_type": "code",
   "execution_count": 4,
   "id": "4a8aea81",
   "metadata": {
    "ExecuteTime": {
     "end_time": "2021-06-07T22:05:49.407780Z",
     "start_time": "2021-06-07T22:05:49.379003Z"
    }
   },
   "outputs": [
    {
     "data": {
      "text/plain": [
       "2987"
      ]
     },
     "execution_count": 4,
     "metadata": {},
     "output_type": "execute_result"
    }
   ],
   "source": [
    "len(df['Tweet Text'].unique())"
   ]
  },
  {
   "cell_type": "code",
   "execution_count": 5,
   "id": "c0e6134b",
   "metadata": {
    "ExecuteTime": {
     "end_time": "2021-06-07T22:05:50.203899Z",
     "start_time": "2021-06-07T22:05:50.183343Z"
    }
   },
   "outputs": [
    {
     "data": {
      "text/plain": [
       "2987"
      ]
     },
     "execution_count": 5,
     "metadata": {},
     "output_type": "execute_result"
    }
   ],
   "source": [
    "len(df['Tweet ID'].unique())"
   ]
  }
 ],
 "metadata": {
  "kernelspec": {
   "display_name": "Python 3",
   "language": "python",
   "name": "python3"
  },
  "language_info": {
   "codemirror_mode": {
    "name": "ipython",
    "version": 3
   },
   "file_extension": ".py",
   "mimetype": "text/x-python",
   "name": "python",
   "nbconvert_exporter": "python",
   "pygments_lexer": "ipython3",
   "version": "3.9.5"
  }
 },
 "nbformat": 4,
 "nbformat_minor": 5
}
