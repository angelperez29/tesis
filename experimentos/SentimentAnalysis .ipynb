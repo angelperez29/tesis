{
 "cells": [
  {
   "cell_type": "code",
   "execution_count": 1,
   "id": "0da189b2",
   "metadata": {
    "ExecuteTime": {
     "end_time": "2021-06-23T00:17:34.777352Z",
     "start_time": "2021-06-23T00:16:57.755731Z"
    }
   },
   "outputs": [],
   "source": [
    "from sentiment_analysis_spanish.sentiment_analysis import SentimentAnalysisSpanish as SAS\n",
    "import pandas as pd\n",
    "sentiment = SAS()\n",
    "# Almacenamos los datos en un dataframe\n",
    "df = pd.read_csv('dfClean.csv')"
   ]
  },
  {
   "cell_type": "code",
   "execution_count": 2,
   "id": "83551d2f",
   "metadata": {
    "ExecuteTime": {
     "end_time": "2021-06-23T00:17:34.805184Z",
     "start_time": "2021-06-23T00:17:34.786777Z"
    }
   },
   "outputs": [],
   "source": [
    "def makeSentiment(df):\n",
    "    polarity=[]\n",
    "    for tweet in df:\n",
    "        polarity.append(sentiment.sentiment(tweet))\n",
    "    return polarity"
   ]
  },
  {
   "cell_type": "code",
   "execution_count": 3,
   "id": "badd14c6",
   "metadata": {
    "ExecuteTime": {
     "end_time": "2021-06-23T00:17:39.762399Z",
     "start_time": "2021-06-23T00:17:34.816309Z"
    }
   },
   "outputs": [],
   "source": [
    "df['TweetPolarity'] = makeSentiment(df['Tweet Text'])"
   ]
  },
  {
   "cell_type": "code",
   "execution_count": 15,
   "id": "239ffbbb",
   "metadata": {
    "ExecuteTime": {
     "end_time": "2021-06-23T03:35:21.479379Z",
     "start_time": "2021-06-23T03:35:21.463964Z"
    }
   },
   "outputs": [
    {
     "data": {
      "text/plain": [
       "2463"
      ]
     },
     "execution_count": 15,
     "metadata": {},
     "output_type": "execute_result"
    }
   ],
   "source": [
    "df.TweetPolarity.argmax()"
   ]
  },
  {
   "cell_type": "code",
   "execution_count": 21,
   "id": "d9994792",
   "metadata": {
    "ExecuteTime": {
     "end_time": "2021-06-23T03:38:56.938807Z",
     "start_time": "2021-06-23T03:38:56.921383Z"
    }
   },
   "outputs": [
    {
     "data": {
      "text/plain": [
       "2589"
      ]
     },
     "execution_count": 21,
     "metadata": {},
     "output_type": "execute_result"
    }
   ],
   "source": [
    "df.TweetPolarity.argmin()"
   ]
  },
  {
   "cell_type": "code",
   "execution_count": 24,
   "id": "cf9612ce",
   "metadata": {
    "ExecuteTime": {
     "end_time": "2021-06-23T03:39:12.710745Z",
     "start_time": "2021-06-23T03:39:12.694660Z"
    }
   },
   "outputs": [
    {
     "data": {
      "text/plain": [
       "'wey el sabado por la mañana tuve un accidente de auto donde gracias a dios vivi para contarlo y una pendeja de mi trabajo me habla y me dice que como estoy internada en el hospital “sin hacer nada” si le hacia el favor de tomar un curso que tiene pendiente  pinche mierda rt untalfredo wey no mames un vato me escribio para un favor de publicidad en insta le digo que lo cerre porque estoy pasando por un mal momento y sin preguntarme si estoy bien me dice “¿entonces no me puedes echar la mano con unos stories para mi negocio” wey que mierda es la gente'"
      ]
     },
     "execution_count": 24,
     "metadata": {},
     "output_type": "execute_result"
    }
   ],
   "source": [
    "df['Tweet Text'][2589]"
   ]
  },
  {
   "cell_type": "code",
   "execution_count": 22,
   "id": "eae8579f",
   "metadata": {
    "ExecuteTime": {
     "end_time": "2021-06-23T03:39:02.683891Z",
     "start_time": "2021-06-23T03:39:02.667139Z"
    }
   },
   "outputs": [
    {
     "data": {
      "text/plain": [
       "7.122762505551104e-25"
      ]
     },
     "execution_count": 22,
     "metadata": {},
     "output_type": "execute_result"
    }
   ],
   "source": [
    "df.TweetPolarity[2589]"
   ]
  },
  {
   "cell_type": "code",
   "execution_count": 23,
   "id": "9d4b1422",
   "metadata": {
    "ExecuteTime": {
     "end_time": "2021-06-23T03:39:07.747208Z",
     "start_time": "2021-06-23T03:39:07.729831Z"
    }
   },
   "outputs": [
    {
     "data": {
      "text/plain": [
       "7.122762505551104e-25"
      ]
     },
     "execution_count": 23,
     "metadata": {},
     "output_type": "execute_result"
    }
   ],
   "source": [
    "sentiment.sentiment(df['Tweet Text'][2589])"
   ]
  },
  {
   "cell_type": "code",
   "execution_count": null,
   "id": "70ee40bc",
   "metadata": {},
   "outputs": [],
   "source": []
  }
 ],
 "metadata": {
  "kernelspec": {
   "display_name": "Python 3",
   "language": "python",
   "name": "python3"
  },
  "language_info": {
   "codemirror_mode": {
    "name": "ipython",
    "version": 3
   },
   "file_extension": ".py",
   "mimetype": "text/x-python",
   "name": "python",
   "nbconvert_exporter": "python",
   "pygments_lexer": "ipython3",
   "version": "3.9.5"
  }
 },
 "nbformat": 4,
 "nbformat_minor": 5
}
