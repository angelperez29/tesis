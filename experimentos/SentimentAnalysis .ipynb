{
 "cells": [
  {
   "cell_type": "code",
   "execution_count": 2,
   "id": "0da189b2",
   "metadata": {
    "ExecuteTime": {
     "end_time": "2021-06-29T15:45:37.848695Z",
     "start_time": "2021-06-29T15:45:03.745248Z"
    }
   },
   "outputs": [],
   "source": [
    "from sentiment_analysis_spanish.sentiment_analysis import SentimentAnalysisSpanish as SAS\n",
    "import pandas as pd\n",
    "sentiment = SAS()\n",
    "# Almacenamos los datos en un dataframe\n",
    "df = pd.read_csv('dfClean.csv')\n",
    "df1 = pd.read_csv('../../../data/dataset_tesis/twitter/mergeData.csv')"
   ]
  },
  {
   "cell_type": "code",
   "execution_count": 3,
   "id": "83551d2f",
   "metadata": {
    "ExecuteTime": {
     "end_time": "2021-06-29T15:45:37.867149Z",
     "start_time": "2021-06-29T15:45:37.856136Z"
    }
   },
   "outputs": [],
   "source": [
    "def makeSentiment(df):\n",
    "    polarity=[]\n",
    "    for tweet in df:\n",
    "        polarity.append(sentiment.sentiment(tweet))\n",
    "    return polarity"
   ]
  },
  {
   "cell_type": "code",
   "execution_count": 4,
   "id": "badd14c6",
   "metadata": {
    "ExecuteTime": {
     "end_time": "2021-06-29T15:45:43.013766Z",
     "start_time": "2021-06-29T15:45:37.876298Z"
    }
   },
   "outputs": [],
   "source": [
    "df['TweetPolarity'] = makeSentiment(df['Tweet Text'])"
   ]
  },
  {
   "cell_type": "code",
   "execution_count": 16,
   "id": "55659944",
   "metadata": {
    "ExecuteTime": {
     "end_time": "2021-06-29T15:50:44.023405Z",
     "start_time": "2021-06-29T15:50:44.010895Z"
    }
   },
   "outputs": [],
   "source": [
    "mins = df.TweetPolarity.argsort()[0:100]"
   ]
  },
  {
   "cell_type": "code",
   "execution_count": 27,
   "id": "a8274817",
   "metadata": {
    "ExecuteTime": {
     "end_time": "2021-06-29T15:53:08.805588Z",
     "start_time": "2021-06-29T15:53:08.792681Z"
    }
   },
   "outputs": [],
   "source": [
    "maxs = df.TweetPolarity.argsort()[len(df.TweetPolarity)-100:len(df.TweetPolarity)]"
   ]
  },
  {
   "cell_type": "code",
   "execution_count": 37,
   "id": "203402dd",
   "metadata": {
    "ExecuteTime": {
     "end_time": "2021-06-29T15:57:47.202003Z",
     "start_time": "2021-06-29T15:57:46.956591Z"
    }
   },
   "outputs": [],
   "source": [
    "cleanMin = []\n",
    "uncleanMin = []\n",
    "for i in mins:\n",
    "    cleanMin.append(df['TweetPolarity'][i])\n",
    "    uncleanMin.append(sentiment.sentiment(df1['Tweet Text'][i]))"
   ]
  },
  {
   "cell_type": "code",
   "execution_count": 39,
   "id": "4fd68492",
   "metadata": {
    "ExecuteTime": {
     "end_time": "2021-06-29T15:58:40.932214Z",
     "start_time": "2021-06-29T15:58:40.722901Z"
    }
   },
   "outputs": [],
   "source": [
    "cleanMax = []\n",
    "uncleanMax = []\n",
    "for i in maxs:\n",
    "    cleanMax.append(df['TweetPolarity'][i])\n",
    "    uncleanMax.append(sentiment.sentiment(df1['Tweet Text'][i]))"
   ]
  },
  {
   "cell_type": "code",
   "execution_count": 41,
   "id": "eb479348",
   "metadata": {
    "ExecuteTime": {
     "end_time": "2021-06-29T16:08:43.714195Z",
     "start_time": "2021-06-29T16:08:43.678362Z"
    }
   },
   "outputs": [
    {
     "data": {
      "text/plain": [
       "[0.7592198652145056,\n",
       " 0.6789438976099864,\n",
       " 0.6824837810859113,\n",
       " 0.6522869807593531,\n",
       " 0.6830208216619575,\n",
       " 0.6830907491412243,\n",
       " 0.974761098512194,\n",
       " 0.720684675360429,\n",
       " 0.6937288602885519,\n",
       " 0.8497844642756358,\n",
       " 0.7026890486183156,\n",
       " 0.7026890486183156,\n",
       " 0.7026890486183156,\n",
       " 0.7026890486183156,\n",
       " 0.7026890486183156,\n",
       " 0.7486755482134019,\n",
       " 0.7346630435654444,\n",
       " 0.6419098004912842,\n",
       " 0.715915532905859,\n",
       " 0.14832021271447954,\n",
       " 0.7174658678168988,\n",
       " 0.9412587107224298,\n",
       " 0.7264240096332016,\n",
       " 0.7300840865009319,\n",
       " 0.7311396629216832,\n",
       " 0.7326054219007255,\n",
       " 0.7336311860573104,\n",
       " 0.2538098963262502,\n",
       " 0.744212328141812,\n",
       " 0.7541336620229429,\n",
       " 0.6522414028052922,\n",
       " 0.7582625408147747,\n",
       " 0.7619670668230806,\n",
       " 0.5778772270275874,\n",
       " 0.7695090023013823,\n",
       " 0.7705890282650106,\n",
       " 0.8332586719643206,\n",
       " 0.8023155333694645,\n",
       " 0.934910669367355,\n",
       " 0.919493811721809,\n",
       " 0.8170356726146369,\n",
       " 0.8232975942751998,\n",
       " 0.8232975942751998,\n",
       " 0.8232975942751998,\n",
       " 0.8276188485909708,\n",
       " 0.8334459519857321,\n",
       " 0.8334459519857321,\n",
       " 0.8402768264191148,\n",
       " 0.8416450029483853,\n",
       " 0.847976344388095,\n",
       " 0.9451398044650396,\n",
       " 0.8714218237686867,\n",
       " 0.8730844997696942,\n",
       " 0.8756994524827916,\n",
       " 0.8771554110470166,\n",
       " 0.9522372506134457,\n",
       " 0.8794400731486101,\n",
       " 0.879545243404209,\n",
       " 0.8812980092436474,\n",
       " 0.882713697059057,\n",
       " 0.966679925392617,\n",
       " 0.9069907596078673,\n",
       " 0.9158710339976338,\n",
       " 0.9093596147646574,\n",
       " 0.9099063185805033,\n",
       " 0.7169788618904258,\n",
       " 0.9180923783314185,\n",
       " 0.9354076524439529,\n",
       " 0.9207209529010453,\n",
       " 0.9237269488875004,\n",
       " 0.9272788175909107,\n",
       " 0.9832732239273925,\n",
       " 0.9391455208959574,\n",
       " 0.9420810953756896,\n",
       " 0.9454264464824237,\n",
       " 0.9462543505019313,\n",
       " 0.9397214656379522,\n",
       " 0.671587576044403,\n",
       " 0.9591971944099417,\n",
       " 0.9637322609723754,\n",
       " 0.9673303866122668,\n",
       " 0.9963097333278077,\n",
       " 0.9694822832835817,\n",
       " 0.9727775797556257,\n",
       " 0.973055003861702,\n",
       " 0.9810363665408371,\n",
       " 0.859921612215174,\n",
       " 0.9867191343031951,\n",
       " 0.9900528364712253,\n",
       " 0.9976991163445985,\n",
       " 0.9910532218403513,\n",
       " 0.9921237178698431,\n",
       " 0.9935006371492667,\n",
       " 0.9940795001718493,\n",
       " 0.9958158936490076,\n",
       " 0.9979889936261555,\n",
       " 0.9969088062426441,\n",
       " 0.9970697830506924,\n",
       " 0.9977979633405938,\n",
       " 0.9989069703208079]"
      ]
     },
     "execution_count": 41,
     "metadata": {},
     "output_type": "execute_result"
    }
   ],
   "source": [
    "uncleanMax"
   ]
  }
 ],
 "metadata": {
  "kernelspec": {
   "display_name": "Python 3",
   "language": "python",
   "name": "python3"
  },
  "language_info": {
   "codemirror_mode": {
    "name": "ipython",
    "version": 3
   },
   "file_extension": ".py",
   "mimetype": "text/x-python",
   "name": "python",
   "nbconvert_exporter": "python",
   "pygments_lexer": "ipython3",
   "version": "3.9.6"
  }
 },
 "nbformat": 4,
 "nbformat_minor": 5
}
