{
 "cells": [
  {
   "cell_type": "code",
   "execution_count": 1,
   "id": "7e81a41d",
   "metadata": {
    "ExecuteTime": {
     "end_time": "2021-06-02T06:48:59.593488Z",
     "start_time": "2021-06-02T06:48:57.026235Z"
    }
   },
   "outputs": [],
   "source": [
    "import pandas as pd"
   ]
  },
  {
   "cell_type": "markdown",
   "id": "c12f73a8",
   "metadata": {},
   "source": [
    "Leemos conjuntos de datos de twitter"
   ]
  },
  {
   "cell_type": "code",
   "execution_count": 2,
   "id": "442c0d85",
   "metadata": {
    "ExecuteTime": {
     "end_time": "2021-06-02T06:48:59.740690Z",
     "start_time": "2021-06-02T06:48:59.725785Z"
    }
   },
   "outputs": [],
   "source": [
    "path = '../../../data/dataset_tesis/twitter/'"
   ]
  },
  {
   "cell_type": "code",
   "execution_count": 20,
   "id": "e83d26ed",
   "metadata": {
    "ExecuteTime": {
     "end_time": "2021-06-02T06:52:35.571265Z",
     "start_time": "2021-06-02T06:52:35.343714Z"
    }
   },
   "outputs": [
    {
     "name": "stdout",
     "output_type": "stream",
     "text": [
      "total 2160\r\n",
      "-rwxrwxrwx 1 angel root  45236 jun  1 23:42 \u001b[0m\u001b[01;32m'#JusticiaParaTodas.xlsx'\u001b[0m*\r\n",
      "-rwxrwxrwx 1 angel root 931603 jun  2 01:52  \u001b[01;32mmergeData.csv\u001b[0m*\r\n",
      "-rwxrwxrwx 1 angel root  55336 jun  2 00:21 \u001b[01;32m'#MexicoFeminicida.xlsx'\u001b[0m*\r\n",
      "-rwxrwxrwx 1 angel root  61009 jun  1 23:47 \u001b[01;32m'#NiUnaMenos.xlsx'\u001b[0m*\r\n",
      "-rwxrwxrwx 1 angel root 142274 jun  1 23:49 \u001b[01;32m'#NoEstasSola.xlsx'\u001b[0m*\r\n",
      "-rwxrwxrwx 1 angel root 135416 jun  1 23:59 \u001b[01;32m'#_No_Ofensivas.xlsx'\u001b[0m*\r\n",
      "-rwxrwxrwx 1 angel root  55541 jun  2 00:04 \u001b[01;32m'#NosCuidamosTodas.xlsx'\u001b[0m*\r\n",
      "-rwxrwxrwx 1 angel root  57423 jun  2 00:06 \u001b[01;32m'#_Ofensivas.xlsx'\u001b[0m*\r\n",
      "-rwxrwxrwx 1 angel root 408424 jun  2 01:05  \u001b[01;32mPruebasSinMalasPalabras.xlsx\u001b[0m*\r\n",
      "-rwxrwxrwx 1 angel root 207816 jun  2 01:45  \u001b[01;32mTestBadWords.xlsx\u001b[0m*\r\n",
      "-rwxrwxrwx 1 angel root  38172 jun  1 19:11  \u001b[01;32mvarios.xlsx\u001b[0m*\r\n",
      "-rwxrwxrwx 1 angel root  46742 jun  2 00:08 \u001b[01;32m'#YoTeCreo.xlsx'\u001b[0m*\r\n"
     ]
    }
   ],
   "source": [
    "ls -l ../../../data/dataset_tesis/twitter/"
   ]
  },
  {
   "cell_type": "code",
   "execution_count": 4,
   "id": "8c794682",
   "metadata": {
    "ExecuteTime": {
     "end_time": "2021-06-02T06:49:10.204693Z",
     "start_time": "2021-06-02T06:49:03.604536Z"
    }
   },
   "outputs": [],
   "source": [
    "# UH -> Una Hoja\n",
    "justicia = pd.read_excel(path+'#JusticiaParaTodas.xlsx')  # UH\n",
    "feminicida = pd.read_excel(path+'#MexicoFeminicida.xlsx')  # UH\n",
    "menos = pd.read_excel(path+'#NiUnaMenos.xlsx')  # UH\n",
    "sola = pd.read_excel(path+'#NoEstasSola.xlsx')  # UH\n",
    "varios = pd.read_excel(path+'varios.xlsx')  # UH\n",
    "tecreo = pd.read_excel(path+'#YoTeCreo.xlsx')  # UH\n",
    "cuidamos = pd.read_excel(path+'#NosCuidamosTodas.xlsx')  # UH\n",
    "# XH -> X Hojas\n",
    "ofensivas = pd.ExcelFile(path+'#_Ofensivas.xlsx')  # 2H\n",
    "sinmalas = pd.ExcelFile(path+'PruebasSinMalasPalabras.xlsx')  # 12H\n",
    "badwords = pd.ExcelFile(path+'TestBadWords.xlsx')  # 6H\n",
    "nofensivas = pd.ExcelFile(path+'#_No_Ofensivas.xlsx')  # 3H"
   ]
  },
  {
   "cell_type": "code",
   "execution_count": 5,
   "id": "61b01392",
   "metadata": {
    "ExecuteTime": {
     "end_time": "2021-06-02T06:49:11.406588Z",
     "start_time": "2021-06-02T06:49:11.388217Z"
    }
   },
   "outputs": [],
   "source": [
    "def mergeData(df):\n",
    "    # Creamos un diccionario con cada hoja del archivo\n",
    "    ndf = {sheet_name: df.parse(sheet_name) for sheet_name in df.sheet_names}\n",
    "    # Variable para almacenamiento de dataframes\n",
    "    array = []\n",
    "    for key in ndf.keys():\n",
    "        array.append(pd.DataFrame(ndf[key]))\n",
    "    return array"
   ]
  },
  {
   "cell_type": "code",
   "execution_count": 6,
   "id": "017bc4ac",
   "metadata": {
    "ExecuteTime": {
     "end_time": "2021-06-02T06:49:15.691711Z",
     "start_time": "2021-06-02T06:49:14.954291Z"
    }
   },
   "outputs": [
    {
     "data": {
      "text/plain": [
       "Index(['Date', 'Screen Name', 'Full Name', 'Tweet Text', 'Tweet ID', 'Link(s)',\n",
       "       'Media', 'Location', 'Retweets', 'Favorites', 'App', 'Followers',\n",
       "       'Follows', 'Listed', 'Verfied', 'User Since', 'Location.1', 'Bio',\n",
       "       'Website', 'Timezone', 'Profile Image'],\n",
       "      dtype='object')"
      ]
     },
     "execution_count": 6,
     "metadata": {},
     "output_type": "execute_result"
    }
   ],
   "source": [
    "nofensivas1 = pd.concat(mergeData(nofensivas))\n",
    "nofensivas1.columns"
   ]
  },
  {
   "cell_type": "code",
   "execution_count": 7,
   "id": "0f6873b9",
   "metadata": {
    "ExecuteTime": {
     "end_time": "2021-06-02T06:49:17.240371Z",
     "start_time": "2021-06-02T06:49:16.921451Z"
    }
   },
   "outputs": [
    {
     "data": {
      "text/plain": [
       "Index(['Date', 'Screen Name', 'Full Name', 'Tweet Text', 'Tweet ID', 'Link(s)',\n",
       "       'Media', 'Location', 'Retweets', 'Favorites', 'App', 'Followers',\n",
       "       'Follows', 'Listed', 'Verfied', 'User Since', 'Location.1', 'Bio',\n",
       "       'Website', 'Timezone', 'Profile Image'],\n",
       "      dtype='object')"
      ]
     },
     "execution_count": 7,
     "metadata": {},
     "output_type": "execute_result"
    }
   ],
   "source": [
    "ofensivas1= pd.concat(mergeData(ofensivas))\n",
    "ofensivas1.columns"
   ]
  },
  {
   "cell_type": "code",
   "execution_count": 8,
   "id": "b39243d6",
   "metadata": {
    "ExecuteTime": {
     "end_time": "2021-06-02T06:49:22.942966Z",
     "start_time": "2021-06-02T06:49:20.688084Z"
    }
   },
   "outputs": [
    {
     "data": {
      "text/plain": [
       "Index(['Date', 'Screen Name', 'Full Name', 'Tweet Text', 'Tweet ID', 'Link(s)',\n",
       "       'Media', 'Location', 'Retweets', 'Favorites', 'App', 'Followers',\n",
       "       'Follows', 'Listed', 'Verfied', 'User Since', 'Location.1', 'Bio',\n",
       "       'Website', 'Timezone', 'Profile Image'],\n",
       "      dtype='object')"
      ]
     },
     "execution_count": 8,
     "metadata": {},
     "output_type": "execute_result"
    }
   ],
   "source": [
    "sinmalas1 = pd.concat(mergeData(sinmalas))\n",
    "sinmalas1.columns"
   ]
  },
  {
   "cell_type": "code",
   "execution_count": 9,
   "id": "7e757ac6",
   "metadata": {
    "ExecuteTime": {
     "end_time": "2021-06-02T06:49:25.281521Z",
     "start_time": "2021-06-02T06:49:23.718751Z"
    }
   },
   "outputs": [
    {
     "data": {
      "text/plain": [
       "Index(['Date', 'Screen Name', 'Full Name', 'Tweet Text', 'Tweet ID', 'Link(s)',\n",
       "       'Media', 'Location', 'Retweets', 'Favorites', 'App', 'Followers',\n",
       "       'Follows', 'Listed', 'Verfied', 'User Since', 'Location.1', 'Bio',\n",
       "       'Website', 'Timezone', 'Profile Image'],\n",
       "      dtype='object')"
      ]
     },
     "execution_count": 9,
     "metadata": {},
     "output_type": "execute_result"
    }
   ],
   "source": [
    "badwords1 = pd.concat(mergeData(badwords))\n",
    "badwords1.columns"
   ]
  },
  {
   "cell_type": "code",
   "execution_count": 10,
   "id": "f35d0d55",
   "metadata": {
    "ExecuteTime": {
     "end_time": "2021-06-02T06:49:26.476906Z",
     "start_time": "2021-06-02T06:49:26.297962Z"
    }
   },
   "outputs": [],
   "source": [
    "df = pd.concat(\n",
    "    [\n",
    "        justicia,\n",
    "        feminicida,\n",
    "        menos,\n",
    "        sola,\n",
    "        varios,\n",
    "        tecreo,\n",
    "        cuidamos,\n",
    "        nofensivas1,\n",
    "        ofensivas1,\n",
    "        sinmalas1,\n",
    "        badwords1\n",
    "    ]\n",
    ")"
   ]
  },
  {
   "cell_type": "code",
   "execution_count": 11,
   "id": "af858ff4",
   "metadata": {
    "ExecuteTime": {
     "end_time": "2021-06-02T06:49:31.508296Z",
     "start_time": "2021-06-02T06:49:31.478892Z"
    }
   },
   "outputs": [],
   "source": [
    "df = df.drop(['Link(s)','Media','Location','Verfied','Location.1','Website','Timezone','Profile Image','Bio'],axis=1)"
   ]
  },
  {
   "cell_type": "code",
   "execution_count": 12,
   "id": "0da6d870",
   "metadata": {
    "ExecuteTime": {
     "end_time": "2021-06-02T06:49:32.327534Z",
     "start_time": "2021-06-02T06:49:32.193966Z"
    }
   },
   "outputs": [
    {
     "data": {
      "text/html": [
       "<div>\n",
       "<style scoped>\n",
       "    .dataframe tbody tr th:only-of-type {\n",
       "        vertical-align: middle;\n",
       "    }\n",
       "\n",
       "    .dataframe tbody tr th {\n",
       "        vertical-align: top;\n",
       "    }\n",
       "\n",
       "    .dataframe thead th {\n",
       "        text-align: right;\n",
       "    }\n",
       "</style>\n",
       "<table border=\"1\" class=\"dataframe\">\n",
       "  <thead>\n",
       "    <tr style=\"text-align: right;\">\n",
       "      <th></th>\n",
       "      <th>Date</th>\n",
       "      <th>Screen Name</th>\n",
       "      <th>Full Name</th>\n",
       "      <th>Tweet Text</th>\n",
       "      <th>Tweet ID</th>\n",
       "      <th>Retweets</th>\n",
       "      <th>Favorites</th>\n",
       "      <th>App</th>\n",
       "      <th>Followers</th>\n",
       "      <th>Follows</th>\n",
       "      <th>Listed</th>\n",
       "      <th>User Since</th>\n",
       "    </tr>\n",
       "  </thead>\n",
       "  <tbody>\n",
       "    <tr>\n",
       "      <th>0</th>\n",
       "      <td>2020-10-24 14:05:16</td>\n",
       "      <td>@IpasMEX</td>\n",
       "      <td>Ipas México</td>\n",
       "      <td>\"Cuando Rubí es asesinada por su novio, Marise...</td>\n",
       "      <td>1320109126593044481</td>\n",
       "      <td>0</td>\n",
       "      <td>4</td>\n",
       "      <td>Twitter for iPhone</td>\n",
       "      <td>4021</td>\n",
       "      <td>643</td>\n",
       "      <td>42</td>\n",
       "      <td>41771.68434</td>\n",
       "    </tr>\n",
       "    <tr>\n",
       "      <th>1</th>\n",
       "      <td>2020-10-24 06:00:01</td>\n",
       "      <td>@_interseccional</td>\n",
       "      <td>INTERSECCIONAL 🏳️‍🌈 🏳️‍⚧️</td>\n",
       "      <td>En diferentes partes de mundo🌎están asesinando...</td>\n",
       "      <td>1319987009104965634</td>\n",
       "      <td>1</td>\n",
       "      <td>0</td>\n",
       "      <td>Twitter Web App</td>\n",
       "      <td>207</td>\n",
       "      <td>214</td>\n",
       "      <td>3</td>\n",
       "      <td>43816.546991</td>\n",
       "    </tr>\n",
       "    <tr>\n",
       "      <th>2</th>\n",
       "      <td>2020-10-24 05:03:52</td>\n",
       "      <td>@VocesDLAusencia</td>\n",
       "      <td>Voces De La Ausencia</td>\n",
       "      <td>Laura Melisa Velázquez Sánchez tenia 20, cuand...</td>\n",
       "      <td>1319972876674584577</td>\n",
       "      <td>57</td>\n",
       "      <td>40</td>\n",
       "      <td>Twitter for iPhone</td>\n",
       "      <td>2794</td>\n",
       "      <td>246</td>\n",
       "      <td>5</td>\n",
       "      <td>43315.338507</td>\n",
       "    </tr>\n",
       "    <tr>\n",
       "      <th>3</th>\n",
       "      <td>2020-10-24 04:37:26</td>\n",
       "      <td>@VocesDLAusencia</td>\n",
       "      <td>Voces De La Ausencia</td>\n",
       "      <td>Lizbeth Mendoza Gómez nació el 18/10/1998, ten...</td>\n",
       "      <td>1319966225414410240</td>\n",
       "      <td>14</td>\n",
       "      <td>23</td>\n",
       "      <td>Twitter for iPhone</td>\n",
       "      <td>2794</td>\n",
       "      <td>246</td>\n",
       "      <td>5</td>\n",
       "      <td>43315.338507</td>\n",
       "    </tr>\n",
       "    <tr>\n",
       "      <th>4</th>\n",
       "      <td>2020-10-24 02:00:46</td>\n",
       "      <td>@_Seleneesgenial</td>\n",
       "      <td>Selene es lo máximo.</td>\n",
       "      <td>Acabo de terminar de ver #LasTresMuertesDeMari...</td>\n",
       "      <td>1319926797702733824</td>\n",
       "      <td>0</td>\n",
       "      <td>0</td>\n",
       "      <td>Twitter for Android</td>\n",
       "      <td>318</td>\n",
       "      <td>70</td>\n",
       "      <td>0</td>\n",
       "      <td>41328.766424</td>\n",
       "    </tr>\n",
       "    <tr>\n",
       "      <th>...</th>\n",
       "      <td>...</td>\n",
       "      <td>...</td>\n",
       "      <td>...</td>\n",
       "      <td>...</td>\n",
       "      <td>...</td>\n",
       "      <td>...</td>\n",
       "      <td>...</td>\n",
       "      <td>...</td>\n",
       "      <td>...</td>\n",
       "      <td>...</td>\n",
       "      <td>...</td>\n",
       "      <td>...</td>\n",
       "    </tr>\n",
       "    <tr>\n",
       "      <th>95</th>\n",
       "      <td>2021-01-26 10:10:17</td>\n",
       "      <td>@Reina_DeFuego</td>\n",
       "      <td>𝕱𝖚𝖊𝖌𝖔 𝕮𝖊𝖑𝖊𝖘𝖙𝖎𝖆𝖑 🔥ミ☆</td>\n",
       "      <td>Uno que iba sin mascarilla me ha llamado payas...</td>\n",
       "      <td>1354129549114662913</td>\n",
       "      <td>0</td>\n",
       "      <td>5</td>\n",
       "      <td>Twitter for Android</td>\n",
       "      <td>344</td>\n",
       "      <td>498</td>\n",
       "      <td>4</td>\n",
       "      <td>2020-07-22 17:29:53</td>\n",
       "    </tr>\n",
       "    <tr>\n",
       "      <th>96</th>\n",
       "      <td>2021-01-26 10:09:40</td>\n",
       "      <td>@AliceaDaliana</td>\n",
       "      <td>D a l a🌪</td>\n",
       "      <td>La vida es un circo y Marie es la payasa😂😂😂</td>\n",
       "      <td>1354129394189660160</td>\n",
       "      <td>0</td>\n",
       "      <td>0</td>\n",
       "      <td>Twitter for iPhone</td>\n",
       "      <td>1472</td>\n",
       "      <td>461</td>\n",
       "      <td>0</td>\n",
       "      <td>2014-06-22 10:09:22</td>\n",
       "    </tr>\n",
       "    <tr>\n",
       "      <th>97</th>\n",
       "      <td>2021-01-26 10:09:39</td>\n",
       "      <td>@pelinegra_aa</td>\n",
       "      <td>Danna franco</td>\n",
       "      <td>Que tipa tan payasa 🤢</td>\n",
       "      <td>1354129389458501632</td>\n",
       "      <td>0</td>\n",
       "      <td>0</td>\n",
       "      <td>Twitter for Android</td>\n",
       "      <td>28</td>\n",
       "      <td>94</td>\n",
       "      <td>0</td>\n",
       "      <td>2019-10-09 21:32:51</td>\n",
       "    </tr>\n",
       "    <tr>\n",
       "      <th>98</th>\n",
       "      <td>2021-01-26 10:07:30</td>\n",
       "      <td>@Mimisan_15</td>\n",
       "      <td>미미/Mimi✨𝓐𝓰𝓾𝓼</td>\n",
       "      <td>Feliz cumpleaños mi payasa hermosa 🤡💕 RT @V5la...</td>\n",
       "      <td>1354128847659216900</td>\n",
       "      <td>0</td>\n",
       "      <td>4</td>\n",
       "      <td>Twitter for Android</td>\n",
       "      <td>760</td>\n",
       "      <td>3731</td>\n",
       "      <td>2</td>\n",
       "      <td>2018-07-22 16:58:12</td>\n",
       "    </tr>\n",
       "    <tr>\n",
       "      <th>99</th>\n",
       "      <td>2021-01-26 10:06:53</td>\n",
       "      <td>@aquariusflames</td>\n",
       "      <td>miss Dai.</td>\n",
       "      <td>SOY PAYASA. RT @That70smarauder: Nunca escuche...</td>\n",
       "      <td>1354128694370062337</td>\n",
       "      <td>0</td>\n",
       "      <td>0</td>\n",
       "      <td>Twitter for Android</td>\n",
       "      <td>2153</td>\n",
       "      <td>1095</td>\n",
       "      <td>22</td>\n",
       "      <td>2016-07-10 07:39:16</td>\n",
       "    </tr>\n",
       "  </tbody>\n",
       "</table>\n",
       "<p>2785 rows × 12 columns</p>\n",
       "</div>"
      ],
      "text/plain": [
       "                  Date       Screen Name                  Full Name  \\\n",
       "0  2020-10-24 14:05:16          @IpasMEX                Ipas México   \n",
       "1  2020-10-24 06:00:01  @_interseccional  INTERSECCIONAL 🏳️‍🌈 🏳️‍⚧️   \n",
       "2  2020-10-24 05:03:52  @VocesDLAusencia       Voces De La Ausencia   \n",
       "3  2020-10-24 04:37:26  @VocesDLAusencia       Voces De La Ausencia   \n",
       "4  2020-10-24 02:00:46  @_Seleneesgenial       Selene es lo máximo.   \n",
       "..                 ...               ...                        ...   \n",
       "95 2021-01-26 10:10:17    @Reina_DeFuego        𝕱𝖚𝖊𝖌𝖔 𝕮𝖊𝖑𝖊𝖘𝖙𝖎𝖆𝖑 🔥ミ☆   \n",
       "96 2021-01-26 10:09:40    @AliceaDaliana                   D a l a🌪   \n",
       "97 2021-01-26 10:09:39     @pelinegra_aa               Danna franco   \n",
       "98 2021-01-26 10:07:30       @Mimisan_15               미미/Mimi✨𝓐𝓰𝓾𝓼   \n",
       "99 2021-01-26 10:06:53   @aquariusflames                  miss Dai.   \n",
       "\n",
       "                                           Tweet Text             Tweet ID  \\\n",
       "0   \"Cuando Rubí es asesinada por su novio, Marise...  1320109126593044481   \n",
       "1   En diferentes partes de mundo🌎están asesinando...  1319987009104965634   \n",
       "2   Laura Melisa Velázquez Sánchez tenia 20, cuand...  1319972876674584577   \n",
       "3   Lizbeth Mendoza Gómez nació el 18/10/1998, ten...  1319966225414410240   \n",
       "4   Acabo de terminar de ver #LasTresMuertesDeMari...  1319926797702733824   \n",
       "..                                                ...                  ...   \n",
       "95  Uno que iba sin mascarilla me ha llamado payas...  1354129549114662913   \n",
       "96        La vida es un circo y Marie es la payasa😂😂😂  1354129394189660160   \n",
       "97                              Que tipa tan payasa 🤢  1354129389458501632   \n",
       "98  Feliz cumpleaños mi payasa hermosa 🤡💕 RT @V5la...  1354128847659216900   \n",
       "99  SOY PAYASA. RT @That70smarauder: Nunca escuche...  1354128694370062337   \n",
       "\n",
       "    Retweets  Favorites                  App  Followers  Follows  Listed  \\\n",
       "0          0          4   Twitter for iPhone       4021      643      42   \n",
       "1          1          0      Twitter Web App        207      214       3   \n",
       "2         57         40   Twitter for iPhone       2794      246       5   \n",
       "3         14         23   Twitter for iPhone       2794      246       5   \n",
       "4          0          0  Twitter for Android        318       70       0   \n",
       "..       ...        ...                  ...        ...      ...     ...   \n",
       "95         0          5  Twitter for Android        344      498       4   \n",
       "96         0          0   Twitter for iPhone       1472      461       0   \n",
       "97         0          0  Twitter for Android         28       94       0   \n",
       "98         0          4  Twitter for Android        760     3731       2   \n",
       "99         0          0  Twitter for Android       2153     1095      22   \n",
       "\n",
       "             User Since  \n",
       "0           41771.68434  \n",
       "1          43816.546991  \n",
       "2          43315.338507  \n",
       "3          43315.338507  \n",
       "4          41328.766424  \n",
       "..                  ...  \n",
       "95  2020-07-22 17:29:53  \n",
       "96  2014-06-22 10:09:22  \n",
       "97  2019-10-09 21:32:51  \n",
       "98  2018-07-22 16:58:12  \n",
       "99  2016-07-10 07:39:16  \n",
       "\n",
       "[2785 rows x 12 columns]"
      ]
     },
     "execution_count": 12,
     "metadata": {},
     "output_type": "execute_result"
    }
   ],
   "source": [
    "df"
   ]
  },
  {
   "cell_type": "code",
   "execution_count": 16,
   "id": "156bf8d9",
   "metadata": {
    "ExecuteTime": {
     "end_time": "2021-06-02T06:50:35.784211Z",
     "start_time": "2021-06-02T06:50:35.750255Z"
    }
   },
   "outputs": [],
   "source": [
    "df = df.dropna()"
   ]
  },
  {
   "cell_type": "code",
   "execution_count": 19,
   "id": "95049160",
   "metadata": {
    "ExecuteTime": {
     "end_time": "2021-06-02T06:52:30.315205Z",
     "start_time": "2021-06-02T06:52:29.977089Z"
    }
   },
   "outputs": [],
   "source": [
    "df.to_csv(path+\"mergeData.csv\",index=False)"
   ]
  }
 ],
 "metadata": {
  "kernelspec": {
   "display_name": "Python 3",
   "language": "python",
   "name": "python3"
  },
  "language_info": {
   "codemirror_mode": {
    "name": "ipython",
    "version": 3
   },
   "file_extension": ".py",
   "mimetype": "text/x-python",
   "name": "python",
   "nbconvert_exporter": "python",
   "pygments_lexer": "ipython3",
   "version": "3.9.5"
  }
 },
 "nbformat": 4,
 "nbformat_minor": 5
}
