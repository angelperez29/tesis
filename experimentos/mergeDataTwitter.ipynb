{
 "cells": [
  {
   "cell_type": "code",
   "execution_count": 1,
   "id": "7e81a41d",
   "metadata": {
    "ExecuteTime": {
     "end_time": "2021-06-07T21:55:17.237491Z",
     "start_time": "2021-06-07T21:55:14.729493Z"
    }
   },
   "outputs": [],
   "source": [
    "import pandas as pd"
   ]
  },
  {
   "cell_type": "markdown",
   "id": "c12f73a8",
   "metadata": {},
   "source": [
    "Leemos conjuntos de datos de twitter"
   ]
  },
  {
   "cell_type": "code",
   "execution_count": 2,
   "id": "442c0d85",
   "metadata": {
    "ExecuteTime": {
     "end_time": "2021-06-07T21:55:19.689878Z",
     "start_time": "2021-06-07T21:55:19.682154Z"
    }
   },
   "outputs": [],
   "source": [
    "path = '../../../data/dataset_tesis/twitter/'"
   ]
  },
  {
   "cell_type": "code",
   "execution_count": 3,
   "id": "e83d26ed",
   "metadata": {
    "ExecuteTime": {
     "end_time": "2021-06-07T21:55:22.242880Z",
     "start_time": "2021-06-07T21:55:22.039827Z"
    }
   },
   "outputs": [
    {
     "name": "stdout",
     "output_type": "stream",
     "text": [
      "total 2384\n",
      "-rwxrwxrwx 1 angel root 227240 jun  7 16:51  \u001b[0m\u001b[01;32mdf0.xlsx\u001b[0m*\n",
      "-rwxrwxrwx 1 angel root  45236 jun  1 23:42 \u001b[01;32m'#JusticiaParaTodas.xlsx'\u001b[0m*\n",
      "-rwxrwxrwx 1 angel root 931603 jun  2 01:52  \u001b[01;32mmergeData.csv\u001b[0m*\n",
      "-rwxrwxrwx 1 angel root  55336 jun  2 00:21 \u001b[01;32m'#MexicoFeminicida.xlsx'\u001b[0m*\n",
      "-rwxrwxrwx 1 angel root  61009 jun  1 23:47 \u001b[01;32m'#NiUnaMenos.xlsx'\u001b[0m*\n",
      "-rwxrwxrwx 1 angel root 142274 jun  1 23:49 \u001b[01;32m'#NoEstasSola.xlsx'\u001b[0m*\n",
      "-rwxrwxrwx 1 angel root 135416 jun  1 23:59 \u001b[01;32m'#_No_Ofensivas.xlsx'\u001b[0m*\n",
      "-rwxrwxrwx 1 angel root  55541 jun  2 00:04 \u001b[01;32m'#NosCuidamosTodas.xlsx'\u001b[0m*\n",
      "-rwxrwxrwx 1 angel root  57423 jun  2 00:06 \u001b[01;32m'#_Ofensivas.xlsx'\u001b[0m*\n",
      "-rwxrwxrwx 1 angel root 408424 jun  2 01:05  \u001b[01;32mPruebasSinMalasPalabras.xlsx\u001b[0m*\n",
      "-rwxrwxrwx 1 angel root 207816 jun  2 01:45  \u001b[01;32mTestBadWords.xlsx\u001b[0m*\n",
      "-rwxrwxrwx 1 angel root  38172 jun  1 19:11  \u001b[01;32mvarios.xlsx\u001b[0m*\n",
      "-rwxrwxrwx 1 angel root  46742 jun  2 00:08 \u001b[01;32m'#YoTeCreo.xlsx'\u001b[0m*\n"
     ]
    }
   ],
   "source": [
    "ls -l ../../../data/dataset_tesis/twitter/"
   ]
  },
  {
   "cell_type": "code",
   "execution_count": 5,
   "id": "8c794682",
   "metadata": {
    "ExecuteTime": {
     "end_time": "2021-06-07T21:56:38.965114Z",
     "start_time": "2021-06-07T21:56:33.124913Z"
    }
   },
   "outputs": [],
   "source": [
    "# UH -> Una Hoja\n",
    "justicia = pd.read_excel(path+'#JusticiaParaTodas.xlsx')  # UH\n",
    "feminicida = pd.read_excel(path+'#MexicoFeminicida.xlsx')  # UH\n",
    "menos = pd.read_excel(path+'#NiUnaMenos.xlsx')  # UH\n",
    "sola = pd.read_excel(path+'#NoEstasSola.xlsx')  # UH\n",
    "varios = pd.read_excel(path+'varios.xlsx')  # UH\n",
    "tecreo = pd.read_excel(path+'#YoTeCreo.xlsx')  # UH\n",
    "cuidamos = pd.read_excel(path+'#NosCuidamosTodas.xlsx')  # UH\n",
    "# XH -> X Hojas\n",
    "ofensivas = pd.ExcelFile(path+'#_Ofensivas.xlsx')  # 2H\n",
    "sinmalas = pd.ExcelFile(path+'PruebasSinMalasPalabras.xlsx')  # 12H\n",
    "badwords = pd.ExcelFile(path+'TestBadWords.xlsx')  # 6H\n",
    "nofensivas = pd.ExcelFile(path+'#_No_Ofensivas.xlsx')  # 3H\n",
    "df0 = pd.ExcelFile(path+'df0.xlsx') # 6H"
   ]
  },
  {
   "cell_type": "code",
   "execution_count": 6,
   "id": "61b01392",
   "metadata": {
    "ExecuteTime": {
     "end_time": "2021-06-07T21:56:41.805484Z",
     "start_time": "2021-06-07T21:56:41.792178Z"
    }
   },
   "outputs": [],
   "source": [
    "def mergeData(df):\n",
    "    # Creamos un diccionario con cada hoja del archivo\n",
    "    ndf = {sheet_name: df.parse(sheet_name) for sheet_name in df.sheet_names}\n",
    "    # Variable para almacenamiento de dataframes\n",
    "    array = []\n",
    "    for key in ndf.keys():\n",
    "        array.append(pd.DataFrame(ndf[key]))\n",
    "    return array"
   ]
  },
  {
   "cell_type": "code",
   "execution_count": 7,
   "id": "017bc4ac",
   "metadata": {
    "ExecuteTime": {
     "end_time": "2021-06-07T21:57:39.540809Z",
     "start_time": "2021-06-07T21:57:38.916595Z"
    }
   },
   "outputs": [
    {
     "data": {
      "text/plain": [
       "Index(['Date', 'Screen Name', 'Full Name', 'Tweet Text', 'Tweet ID', 'Link(s)',\n",
       "       'Media', 'Location', 'Retweets', 'Favorites', 'App', 'Followers',\n",
       "       'Follows', 'Listed', 'Verfied', 'User Since', 'Location.1', 'Bio',\n",
       "       'Website', 'Timezone', 'Profile Image'],\n",
       "      dtype='object')"
      ]
     },
     "execution_count": 7,
     "metadata": {},
     "output_type": "execute_result"
    }
   ],
   "source": [
    "nofensivas1 = pd.concat(mergeData(nofensivas))\n",
    "nofensivas1.columns"
   ]
  },
  {
   "cell_type": "code",
   "execution_count": 8,
   "id": "0f6873b9",
   "metadata": {
    "ExecuteTime": {
     "end_time": "2021-06-07T21:57:40.070755Z",
     "start_time": "2021-06-07T21:57:39.733680Z"
    }
   },
   "outputs": [
    {
     "data": {
      "text/plain": [
       "Index(['Date', 'Screen Name', 'Full Name', 'Tweet Text', 'Tweet ID', 'Link(s)',\n",
       "       'Media', 'Location', 'Retweets', 'Favorites', 'App', 'Followers',\n",
       "       'Follows', 'Listed', 'Verfied', 'User Since', 'Location.1', 'Bio',\n",
       "       'Website', 'Timezone', 'Profile Image'],\n",
       "      dtype='object')"
      ]
     },
     "execution_count": 8,
     "metadata": {},
     "output_type": "execute_result"
    }
   ],
   "source": [
    "ofensivas1= pd.concat(mergeData(ofensivas))\n",
    "ofensivas1.columns"
   ]
  },
  {
   "cell_type": "code",
   "execution_count": 9,
   "id": "b39243d6",
   "metadata": {
    "ExecuteTime": {
     "end_time": "2021-06-07T21:57:42.692150Z",
     "start_time": "2021-06-07T21:57:40.793110Z"
    }
   },
   "outputs": [
    {
     "data": {
      "text/plain": [
       "Index(['Date', 'Screen Name', 'Full Name', 'Tweet Text', 'Tweet ID', 'Link(s)',\n",
       "       'Media', 'Location', 'Retweets', 'Favorites', 'App', 'Followers',\n",
       "       'Follows', 'Listed', 'Verfied', 'User Since', 'Location.1', 'Bio',\n",
       "       'Website', 'Timezone', 'Profile Image'],\n",
       "      dtype='object')"
      ]
     },
     "execution_count": 9,
     "metadata": {},
     "output_type": "execute_result"
    }
   ],
   "source": [
    "sinmalas1 = pd.concat(mergeData(sinmalas))\n",
    "sinmalas1.columns"
   ]
  },
  {
   "cell_type": "code",
   "execution_count": 10,
   "id": "7e757ac6",
   "metadata": {
    "ExecuteTime": {
     "end_time": "2021-06-07T21:57:45.410955Z",
     "start_time": "2021-06-07T21:57:44.328380Z"
    }
   },
   "outputs": [
    {
     "data": {
      "text/plain": [
       "Index(['Date', 'Screen Name', 'Full Name', 'Tweet Text', 'Tweet ID', 'Link(s)',\n",
       "       'Media', 'Location', 'Retweets', 'Favorites', 'App', 'Followers',\n",
       "       'Follows', 'Listed', 'Verfied', 'User Since', 'Location.1', 'Bio',\n",
       "       'Website', 'Timezone', 'Profile Image'],\n",
       "      dtype='object')"
      ]
     },
     "execution_count": 10,
     "metadata": {},
     "output_type": "execute_result"
    }
   ],
   "source": [
    "badwords1 = pd.concat(mergeData(badwords))\n",
    "badwords1.columns"
   ]
  },
  {
   "cell_type": "code",
   "execution_count": 11,
   "id": "0d726125",
   "metadata": {
    "ExecuteTime": {
     "end_time": "2021-06-07T21:58:00.551548Z",
     "start_time": "2021-06-07T21:57:59.242877Z"
    }
   },
   "outputs": [
    {
     "data": {
      "text/plain": [
       "Index(['Date', 'Screen Name', 'Full Name', 'Tweet Text', 'Tweet ID', 'Link(s)',\n",
       "       'Media', 'Location', 'Retweets', 'Favorites', 'App', 'Followers',\n",
       "       'Follows', 'Listed', 'Verfied', 'User Since', 'Location.1', 'Bio',\n",
       "       'Website', 'Timezone', 'Profile Image'],\n",
       "      dtype='object')"
      ]
     },
     "execution_count": 11,
     "metadata": {},
     "output_type": "execute_result"
    }
   ],
   "source": [
    "df01 = pd.concat(mergeData(df0))\n",
    "df01.columns"
   ]
  },
  {
   "cell_type": "code",
   "execution_count": 12,
   "id": "f35d0d55",
   "metadata": {
    "ExecuteTime": {
     "end_time": "2021-06-07T21:58:12.987271Z",
     "start_time": "2021-06-07T21:58:12.827902Z"
    }
   },
   "outputs": [],
   "source": [
    "df = pd.concat(\n",
    "    [\n",
    "        justicia,\n",
    "        feminicida,\n",
    "        menos,\n",
    "        sola,\n",
    "        varios,\n",
    "        tecreo,\n",
    "        cuidamos,\n",
    "        nofensivas1,\n",
    "        ofensivas1,\n",
    "        sinmalas1,\n",
    "        badwords1,\n",
    "        df01\n",
    "    ]\n",
    ")"
   ]
  },
  {
   "cell_type": "code",
   "execution_count": 13,
   "id": "af858ff4",
   "metadata": {
    "ExecuteTime": {
     "end_time": "2021-06-07T21:58:16.867711Z",
     "start_time": "2021-06-07T21:58:16.834412Z"
    }
   },
   "outputs": [],
   "source": [
    "df = df.drop(['Link(s)','Media','Location','Verfied','Location.1','Website','Timezone','Profile Image','Bio'],axis=1)"
   ]
  },
  {
   "cell_type": "code",
   "execution_count": 14,
   "id": "0da6d870",
   "metadata": {
    "ExecuteTime": {
     "end_time": "2021-06-07T21:58:18.445282Z",
     "start_time": "2021-06-07T21:58:18.305880Z"
    }
   },
   "outputs": [
    {
     "data": {
      "text/html": [
       "<div>\n",
       "<style scoped>\n",
       "    .dataframe tbody tr th:only-of-type {\n",
       "        vertical-align: middle;\n",
       "    }\n",
       "\n",
       "    .dataframe tbody tr th {\n",
       "        vertical-align: top;\n",
       "    }\n",
       "\n",
       "    .dataframe thead th {\n",
       "        text-align: right;\n",
       "    }\n",
       "</style>\n",
       "<table border=\"1\" class=\"dataframe\">\n",
       "  <thead>\n",
       "    <tr style=\"text-align: right;\">\n",
       "      <th></th>\n",
       "      <th>Date</th>\n",
       "      <th>Screen Name</th>\n",
       "      <th>Full Name</th>\n",
       "      <th>Tweet Text</th>\n",
       "      <th>Tweet ID</th>\n",
       "      <th>Retweets</th>\n",
       "      <th>Favorites</th>\n",
       "      <th>App</th>\n",
       "      <th>Followers</th>\n",
       "      <th>Follows</th>\n",
       "      <th>Listed</th>\n",
       "      <th>User Since</th>\n",
       "    </tr>\n",
       "  </thead>\n",
       "  <tbody>\n",
       "    <tr>\n",
       "      <th>0</th>\n",
       "      <td>2020-10-24 14:05:16</td>\n",
       "      <td>@IpasMEX</td>\n",
       "      <td>Ipas México</td>\n",
       "      <td>\"Cuando Rubí es asesinada por su novio, Marise...</td>\n",
       "      <td>1320109126593044481</td>\n",
       "      <td>0</td>\n",
       "      <td>4</td>\n",
       "      <td>Twitter for iPhone</td>\n",
       "      <td>4021</td>\n",
       "      <td>643</td>\n",
       "      <td>42</td>\n",
       "      <td>41771.68434</td>\n",
       "    </tr>\n",
       "    <tr>\n",
       "      <th>1</th>\n",
       "      <td>2020-10-24 06:00:01</td>\n",
       "      <td>@_interseccional</td>\n",
       "      <td>INTERSECCIONAL 🏳️‍🌈 🏳️‍⚧️</td>\n",
       "      <td>En diferentes partes de mundo🌎están asesinando...</td>\n",
       "      <td>1319987009104965634</td>\n",
       "      <td>1</td>\n",
       "      <td>0</td>\n",
       "      <td>Twitter Web App</td>\n",
       "      <td>207</td>\n",
       "      <td>214</td>\n",
       "      <td>3</td>\n",
       "      <td>43816.546991</td>\n",
       "    </tr>\n",
       "    <tr>\n",
       "      <th>2</th>\n",
       "      <td>2020-10-24 05:03:52</td>\n",
       "      <td>@VocesDLAusencia</td>\n",
       "      <td>Voces De La Ausencia</td>\n",
       "      <td>Laura Melisa Velázquez Sánchez tenia 20, cuand...</td>\n",
       "      <td>1319972876674584577</td>\n",
       "      <td>57</td>\n",
       "      <td>40</td>\n",
       "      <td>Twitter for iPhone</td>\n",
       "      <td>2794</td>\n",
       "      <td>246</td>\n",
       "      <td>5</td>\n",
       "      <td>43315.338507</td>\n",
       "    </tr>\n",
       "    <tr>\n",
       "      <th>3</th>\n",
       "      <td>2020-10-24 04:37:26</td>\n",
       "      <td>@VocesDLAusencia</td>\n",
       "      <td>Voces De La Ausencia</td>\n",
       "      <td>Lizbeth Mendoza Gómez nació el 18/10/1998, ten...</td>\n",
       "      <td>1319966225414410240</td>\n",
       "      <td>14</td>\n",
       "      <td>23</td>\n",
       "      <td>Twitter for iPhone</td>\n",
       "      <td>2794</td>\n",
       "      <td>246</td>\n",
       "      <td>5</td>\n",
       "      <td>43315.338507</td>\n",
       "    </tr>\n",
       "    <tr>\n",
       "      <th>4</th>\n",
       "      <td>2020-10-24 02:00:46</td>\n",
       "      <td>@_Seleneesgenial</td>\n",
       "      <td>Selene es lo máximo.</td>\n",
       "      <td>Acabo de terminar de ver #LasTresMuertesDeMari...</td>\n",
       "      <td>1319926797702733824</td>\n",
       "      <td>0</td>\n",
       "      <td>0</td>\n",
       "      <td>Twitter for Android</td>\n",
       "      <td>318</td>\n",
       "      <td>70</td>\n",
       "      <td>0</td>\n",
       "      <td>41328.766424</td>\n",
       "    </tr>\n",
       "    <tr>\n",
       "      <th>...</th>\n",
       "      <td>...</td>\n",
       "      <td>...</td>\n",
       "      <td>...</td>\n",
       "      <td>...</td>\n",
       "      <td>...</td>\n",
       "      <td>...</td>\n",
       "      <td>...</td>\n",
       "      <td>...</td>\n",
       "      <td>...</td>\n",
       "      <td>...</td>\n",
       "      <td>...</td>\n",
       "      <td>...</td>\n",
       "    </tr>\n",
       "    <tr>\n",
       "      <th>95</th>\n",
       "      <td>2021-06-07 10:38:48</td>\n",
       "      <td>@wdc00027</td>\n",
       "      <td>Wendy Castaño</td>\n",
       "      <td>Persona más hipócrita que usted no he conocido...</td>\n",
       "      <td>1401956825600307203</td>\n",
       "      <td>0</td>\n",
       "      <td>1</td>\n",
       "      <td>Twitter for iPhone</td>\n",
       "      <td>14</td>\n",
       "      <td>15</td>\n",
       "      <td>0</td>\n",
       "      <td>2021-05-25 17:26:26</td>\n",
       "    </tr>\n",
       "    <tr>\n",
       "      <th>96</th>\n",
       "      <td>2021-06-07 10:30:49</td>\n",
       "      <td>@StepHarder_</td>\n",
       "      <td>Mich</td>\n",
       "      <td>Como payasa quedé.</td>\n",
       "      <td>1401954816012734468</td>\n",
       "      <td>0</td>\n",
       "      <td>0</td>\n",
       "      <td>Twitter for Android</td>\n",
       "      <td>74</td>\n",
       "      <td>444</td>\n",
       "      <td>0</td>\n",
       "      <td>2017-04-02 14:59:33</td>\n",
       "    </tr>\n",
       "    <tr>\n",
       "      <th>97</th>\n",
       "      <td>2021-06-07 10:28:01</td>\n",
       "      <td>@bastia_agustin</td>\n",
       "      <td>𝕰𝖑 𝕸𝖆𝖙𝖆𝖙𝖆𝖓</td>\n",
       "      <td>Me da risa la payasa esta, termino siendo una ...</td>\n",
       "      <td>1401954111118053378</td>\n",
       "      <td>0</td>\n",
       "      <td>0</td>\n",
       "      <td>Twitter for Android</td>\n",
       "      <td>171</td>\n",
       "      <td>197</td>\n",
       "      <td>0</td>\n",
       "      <td>2017-04-01 10:51:12</td>\n",
       "    </tr>\n",
       "    <tr>\n",
       "      <th>98</th>\n",
       "      <td>2021-06-07 10:23:48</td>\n",
       "      <td>@irene78975696</td>\n",
       "      <td>ire💌</td>\n",
       "      <td>Todo mi verano depende de cómo me salgan los e...</td>\n",
       "      <td>1401953049078374407</td>\n",
       "      <td>1</td>\n",
       "      <td>6</td>\n",
       "      <td>Twitter for iPhone</td>\n",
       "      <td>45</td>\n",
       "      <td>158</td>\n",
       "      <td>0</td>\n",
       "      <td>2018-12-25 15:41:23</td>\n",
       "    </tr>\n",
       "    <tr>\n",
       "      <th>99</th>\n",
       "      <td>2021-06-07 10:22:09</td>\n",
       "      <td>@MalditaSoaUlls</td>\n",
       "      <td>ℒ𝒶ℳ𝒶𝓁𝒹𝒾𝒾𝒾𝓉𝒶𝒰𝓁𝓁𝓈 💀</td>\n",
       "      <td>Gente culiá payasa wn JAJJAJJAJAJAJA</td>\n",
       "      <td>1401952633070538755</td>\n",
       "      <td>0</td>\n",
       "      <td>2</td>\n",
       "      <td>Twitter for Android</td>\n",
       "      <td>2792</td>\n",
       "      <td>2738</td>\n",
       "      <td>2</td>\n",
       "      <td>2015-02-23 09:56:43</td>\n",
       "    </tr>\n",
       "  </tbody>\n",
       "</table>\n",
       "<p>3429 rows × 12 columns</p>\n",
       "</div>"
      ],
      "text/plain": [
       "                  Date       Screen Name                  Full Name  \\\n",
       "0  2020-10-24 14:05:16          @IpasMEX                Ipas México   \n",
       "1  2020-10-24 06:00:01  @_interseccional  INTERSECCIONAL 🏳️‍🌈 🏳️‍⚧️   \n",
       "2  2020-10-24 05:03:52  @VocesDLAusencia       Voces De La Ausencia   \n",
       "3  2020-10-24 04:37:26  @VocesDLAusencia       Voces De La Ausencia   \n",
       "4  2020-10-24 02:00:46  @_Seleneesgenial       Selene es lo máximo.   \n",
       "..                 ...               ...                        ...   \n",
       "95 2021-06-07 10:38:48         @wdc00027              Wendy Castaño   \n",
       "96 2021-06-07 10:30:49      @StepHarder_                       Mich   \n",
       "97 2021-06-07 10:28:01   @bastia_agustin                 𝕰𝖑 𝕸𝖆𝖙𝖆𝖙𝖆𝖓   \n",
       "98 2021-06-07 10:23:48    @irene78975696                       ire💌   \n",
       "99 2021-06-07 10:22:09   @MalditaSoaUlls          ℒ𝒶ℳ𝒶𝓁𝒹𝒾𝒾𝒾𝓉𝒶𝒰𝓁𝓁𝓈 💀   \n",
       "\n",
       "                                           Tweet Text             Tweet ID  \\\n",
       "0   \"Cuando Rubí es asesinada por su novio, Marise...  1320109126593044481   \n",
       "1   En diferentes partes de mundo🌎están asesinando...  1319987009104965634   \n",
       "2   Laura Melisa Velázquez Sánchez tenia 20, cuand...  1319972876674584577   \n",
       "3   Lizbeth Mendoza Gómez nació el 18/10/1998, ten...  1319966225414410240   \n",
       "4   Acabo de terminar de ver #LasTresMuertesDeMari...  1319926797702733824   \n",
       "..                                                ...                  ...   \n",
       "95  Persona más hipócrita que usted no he conocido...  1401956825600307203   \n",
       "96                                 Como payasa quedé.  1401954816012734468   \n",
       "97  Me da risa la payasa esta, termino siendo una ...  1401954111118053378   \n",
       "98  Todo mi verano depende de cómo me salgan los e...  1401953049078374407   \n",
       "99               Gente culiá payasa wn JAJJAJJAJAJAJA  1401952633070538755   \n",
       "\n",
       "    Retweets  Favorites                  App  Followers  Follows  Listed  \\\n",
       "0          0          4   Twitter for iPhone       4021      643      42   \n",
       "1          1          0      Twitter Web App        207      214       3   \n",
       "2         57         40   Twitter for iPhone       2794      246       5   \n",
       "3         14         23   Twitter for iPhone       2794      246       5   \n",
       "4          0          0  Twitter for Android        318       70       0   \n",
       "..       ...        ...                  ...        ...      ...     ...   \n",
       "95         0          1   Twitter for iPhone         14       15       0   \n",
       "96         0          0  Twitter for Android         74      444       0   \n",
       "97         0          0  Twitter for Android        171      197       0   \n",
       "98         1          6   Twitter for iPhone         45      158       0   \n",
       "99         0          2  Twitter for Android       2792     2738       2   \n",
       "\n",
       "             User Since  \n",
       "0           41771.68434  \n",
       "1          43816.546991  \n",
       "2          43315.338507  \n",
       "3          43315.338507  \n",
       "4          41328.766424  \n",
       "..                  ...  \n",
       "95  2021-05-25 17:26:26  \n",
       "96  2017-04-02 14:59:33  \n",
       "97  2017-04-01 10:51:12  \n",
       "98  2018-12-25 15:41:23  \n",
       "99  2015-02-23 09:56:43  \n",
       "\n",
       "[3429 rows x 12 columns]"
      ]
     },
     "execution_count": 14,
     "metadata": {},
     "output_type": "execute_result"
    }
   ],
   "source": [
    "df"
   ]
  },
  {
   "cell_type": "code",
   "execution_count": 20,
   "id": "156bf8d9",
   "metadata": {
    "ExecuteTime": {
     "end_time": "2021-06-07T22:03:39.380568Z",
     "start_time": "2021-06-07T22:03:39.320274Z"
    }
   },
   "outputs": [],
   "source": [
    "df = df.dropna()\n",
    "df = df.drop_duplicates(subset=['Tweet Text'])\n"
   ]
  },
  {
   "cell_type": "code",
   "execution_count": 23,
   "id": "17d5c9e2",
   "metadata": {
    "ExecuteTime": {
     "end_time": "2021-06-07T22:04:29.417150Z",
     "start_time": "2021-06-07T22:04:29.402758Z"
    }
   },
   "outputs": [
    {
     "data": {
      "text/plain": [
       "(2987, 12)"
      ]
     },
     "execution_count": 23,
     "metadata": {},
     "output_type": "execute_result"
    }
   ],
   "source": [
    "df.shape"
   ]
  },
  {
   "cell_type": "code",
   "execution_count": 24,
   "id": "27e3c43a",
   "metadata": {
    "ExecuteTime": {
     "end_time": "2021-06-07T22:04:37.782072Z",
     "start_time": "2021-06-07T22:04:37.758901Z"
    }
   },
   "outputs": [
    {
     "data": {
      "text/plain": [
       "2987"
      ]
     },
     "execution_count": 24,
     "metadata": {},
     "output_type": "execute_result"
    }
   ],
   "source": [
    "len(df['Tweet Text'].unique())"
   ]
  },
  {
   "cell_type": "code",
   "execution_count": 25,
   "id": "4bc398b0",
   "metadata": {
    "ExecuteTime": {
     "end_time": "2021-06-07T22:04:45.059200Z",
     "start_time": "2021-06-07T22:04:44.760139Z"
    }
   },
   "outputs": [],
   "source": [
    "df.to_csv(path+\"mergeData.csv\",index=False)"
   ]
  }
 ],
 "metadata": {
  "kernelspec": {
   "display_name": "Python 3",
   "language": "python",
   "name": "python3"
  },
  "language_info": {
   "codemirror_mode": {
    "name": "ipython",
    "version": 3
   },
   "file_extension": ".py",
   "mimetype": "text/x-python",
   "name": "python",
   "nbconvert_exporter": "python",
   "pygments_lexer": "ipython3",
   "version": "3.9.5"
  }
 },
 "nbformat": 4,
 "nbformat_minor": 5
}
