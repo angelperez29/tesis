{
 "cells": [
  {
   "cell_type": "code",
   "execution_count": 1,
   "id": "bf113e35",
   "metadata": {
    "ExecuteTime": {
     "end_time": "2021-08-04T03:40:46.360535Z",
     "start_time": "2021-08-04T03:40:41.436605Z"
    }
   },
   "outputs": [],
   "source": [
    "from pymongo import MongoClient\n",
    "import pandas as pd"
   ]
  },
  {
   "cell_type": "code",
   "execution_count": 2,
   "id": "832f9957",
   "metadata": {
    "ExecuteTime": {
     "end_time": "2021-08-04T03:40:46.719150Z",
     "start_time": "2021-08-04T03:40:46.371613Z"
    }
   },
   "outputs": [],
   "source": [
    "# URL con la que hacemos la conexión con MongoDB\n",
    "MONGO_URI = \"mongodb://127.0.0.1\"\n",
    "# Cliente con el que nos conectaremos con MongoDB\n",
    "client = MongoClient(MONGO_URI)\n",
    "# Base de datos a utilizar\n",
    "db = client.tesis\n",
    "# Colección en donde almacenaremos los datos\n",
    "tweets = db[\"tweets\"]\n",
    "# Almacenamos los datos en un dataframe\n",
    "df = pd.read_csv('../../../data/dataset_tesis/twitter/mergeData.csv')"
   ]
  },
  {
   "cell_type": "code",
   "execution_count": 3,
   "id": "42c04ae9",
   "metadata": {
    "ExecuteTime": {
     "end_time": "2021-08-04T03:40:46.767295Z",
     "start_time": "2021-08-04T03:40:46.729434Z"
    }
   },
   "outputs": [],
   "source": [
    "# Generamos la lista en donde almacenaremos todos los datos de nuestra DB\n",
    "data = []\n",
    "for _id, tweet in zip(df['Tweet ID'], df['Tweet Text']):\n",
    "    temp = {\n",
    "        \"_id\": _id,\n",
    "        \"tweet\": tweet,\n",
    "        \"evaluation\": []\n",
    "    }\n",
    "    data.append(temp)"
   ]
  },
  {
   "cell_type": "code",
   "execution_count": 4,
   "id": "1954c4dd",
   "metadata": {
    "ExecuteTime": {
     "end_time": "2021-08-04T03:40:47.049154Z",
     "start_time": "2021-08-04T03:40:46.774329Z"
    }
   },
   "outputs": [
    {
     "name": "stdout",
     "output_type": "stream",
     "text": [
      "Se cargo exitosamente\n"
     ]
    }
   ],
   "source": [
    "if tweets.insert_many(data).acknowledged:\n",
    "    print(\"Se cargo exitosamente\")\n",
    "else:\n",
    "    print(\"Error al cargarse DB\")"
   ]
  },
  {
   "cell_type": "code",
   "execution_count": null,
   "id": "e3da4ad4",
   "metadata": {},
   "outputs": [],
   "source": []
  }
 ],
 "metadata": {
  "kernelspec": {
   "display_name": "Python 3",
   "language": "python",
   "name": "python3"
  },
  "language_info": {
   "codemirror_mode": {
    "name": "ipython",
    "version": 3
   },
   "file_extension": ".py",
   "mimetype": "text/x-python",
   "name": "python",
   "nbconvert_exporter": "python",
   "pygments_lexer": "ipython3",
   "version": "3.9.6"
  }
 },
 "nbformat": 4,
 "nbformat_minor": 5
}
