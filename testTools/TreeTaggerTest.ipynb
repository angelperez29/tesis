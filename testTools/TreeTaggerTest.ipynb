{
 "cells": [
  {
   "cell_type": "code",
   "execution_count": 2,
   "id": "completed-foster",
   "metadata": {
    "ExecuteTime": {
     "end_time": "2021-04-08T01:09:16.115481Z",
     "start_time": "2021-04-08T01:09:16.108561Z"
    }
   },
   "outputs": [],
   "source": [
    "import pprint   # For proper print of sequences.\n",
    "import treetaggerwrapper"
   ]
  },
  {
   "cell_type": "code",
   "execution_count": 4,
   "id": "official-sound",
   "metadata": {
    "ExecuteTime": {
     "end_time": "2021-04-08T01:09:27.985756Z",
     "start_time": "2021-04-08T01:09:27.875232Z"
    }
   },
   "outputs": [
    {
     "ename": "TreeTaggerError",
     "evalue": "Can't locate TreeTagger directory (and no TAGDIR specified).",
     "output_type": "error",
     "traceback": [
      "\u001b[0;31m---------------------------------------------------------------------------\u001b[0m",
      "\u001b[0;31mTreeTaggerError\u001b[0m                           Traceback (most recent call last)",
      "\u001b[0;32m<ipython-input-4-c4b626f558b0>\u001b[0m in \u001b[0;36m<module>\u001b[0;34m\u001b[0m\n\u001b[1;32m      1\u001b[0m \u001b[0;31m#1) build a TreeTagger wrapper:\u001b[0m\u001b[0;34m\u001b[0m\u001b[0;34m\u001b[0m\u001b[0;34m\u001b[0m\u001b[0m\n\u001b[0;32m----> 2\u001b[0;31m \u001b[0mtagger\u001b[0m \u001b[0;34m=\u001b[0m \u001b[0mtreetaggerwrapper\u001b[0m\u001b[0;34m.\u001b[0m\u001b[0mTreeTagger\u001b[0m\u001b[0;34m(\u001b[0m\u001b[0mTAGLANG\u001b[0m\u001b[0;34m=\u001b[0m\u001b[0;34m'en'\u001b[0m\u001b[0;34m)\u001b[0m\u001b[0;34m\u001b[0m\u001b[0;34m\u001b[0m\u001b[0m\n\u001b[0m\u001b[1;32m      3\u001b[0m \u001b[0;31m#2) tag your text.\u001b[0m\u001b[0;34m\u001b[0m\u001b[0;34m\u001b[0m\u001b[0;34m\u001b[0m\u001b[0m\n\u001b[1;32m      4\u001b[0m \u001b[0mtags\u001b[0m \u001b[0;34m=\u001b[0m \u001b[0mtagger\u001b[0m\u001b[0;34m.\u001b[0m\u001b[0mtag_text\u001b[0m\u001b[0;34m(\u001b[0m\u001b[0;34m\"This is a very short text to tag.\"\u001b[0m\u001b[0;34m)\u001b[0m\u001b[0;34m\u001b[0m\u001b[0;34m\u001b[0m\u001b[0m\n\u001b[1;32m      5\u001b[0m \u001b[0;31m#3) use the tags list... (list of string output from TreeTagger).\u001b[0m\u001b[0;34m\u001b[0m\u001b[0;34m\u001b[0m\u001b[0;34m\u001b[0m\u001b[0m\n",
      "\u001b[0;32m~/.local/lib/python3.9/site-packages/treetaggerwrapper.py\u001b[0m in \u001b[0;36m__init__\u001b[0;34m(self, **kargs)\u001b[0m\n\u001b[1;32m   1004\u001b[0m         \u001b[0mlogger\u001b[0m\u001b[0;34m.\u001b[0m\u001b[0mdebug\u001b[0m\u001b[0;34m(\u001b[0m\u001b[0;34m\"Using treetaggerwrapper.py from %s\"\u001b[0m\u001b[0;34m,\u001b[0m \u001b[0mosp\u001b[0m\u001b[0;34m.\u001b[0m\u001b[0mabspath\u001b[0m\u001b[0;34m(\u001b[0m\u001b[0m__file__\u001b[0m\u001b[0;34m)\u001b[0m\u001b[0;34m)\u001b[0m\u001b[0;34m\u001b[0m\u001b[0;34m\u001b[0m\u001b[0m\n\u001b[1;32m   1005\u001b[0m         \u001b[0mself\u001b[0m\u001b[0;34m.\u001b[0m\u001b[0m_set_language\u001b[0m\u001b[0;34m(\u001b[0m\u001b[0mkargs\u001b[0m\u001b[0;34m)\u001b[0m\u001b[0;34m\u001b[0m\u001b[0;34m\u001b[0m\u001b[0m\n\u001b[0;32m-> 1006\u001b[0;31m         \u001b[0mself\u001b[0m\u001b[0;34m.\u001b[0m\u001b[0m_set_tagger\u001b[0m\u001b[0;34m(\u001b[0m\u001b[0mkargs\u001b[0m\u001b[0;34m)\u001b[0m\u001b[0;34m\u001b[0m\u001b[0;34m\u001b[0m\u001b[0m\n\u001b[0m\u001b[1;32m   1007\u001b[0m         \u001b[0mself\u001b[0m\u001b[0;34m.\u001b[0m\u001b[0m_set_preprocessor\u001b[0m\u001b[0;34m(\u001b[0m\u001b[0mkargs\u001b[0m\u001b[0;34m)\u001b[0m\u001b[0;34m\u001b[0m\u001b[0;34m\u001b[0m\u001b[0m\n\u001b[1;32m   1008\u001b[0m         \u001b[0;31m# Note: TreeTagger process is started later, when really needed.\u001b[0m\u001b[0;34m\u001b[0m\u001b[0;34m\u001b[0m\u001b[0;34m\u001b[0m\u001b[0m\n",
      "\u001b[0;32m~/.local/lib/python3.9/site-packages/treetaggerwrapper.py\u001b[0m in \u001b[0;36m_set_tagger\u001b[0;34m(self, kargs)\u001b[0m\n\u001b[1;32m   1046\u001b[0m                 logger.error(\"Can't locate TreeTagger directory (and \"\n\u001b[1;32m   1047\u001b[0m                              \"no TAGDIR specified).\")\n\u001b[0;32m-> 1048\u001b[0;31m                 raise TreeTaggerError(\"Can't locate TreeTagger directory (and \"\n\u001b[0m\u001b[1;32m   1049\u001b[0m                                       \"no TAGDIR specified).\")\n\u001b[1;32m   1050\u001b[0m         \u001b[0mself\u001b[0m\u001b[0;34m.\u001b[0m\u001b[0mtagdir\u001b[0m \u001b[0;34m=\u001b[0m \u001b[0mos\u001b[0m\u001b[0;34m.\u001b[0m\u001b[0mpath\u001b[0m\u001b[0;34m.\u001b[0m\u001b[0mabspath\u001b[0m\u001b[0;34m(\u001b[0m\u001b[0mself\u001b[0m\u001b[0;34m.\u001b[0m\u001b[0mtagdir\u001b[0m\u001b[0;34m)\u001b[0m\u001b[0;34m\u001b[0m\u001b[0;34m\u001b[0m\u001b[0m\n",
      "\u001b[0;31mTreeTaggerError\u001b[0m: Can't locate TreeTagger directory (and no TAGDIR specified)."
     ]
    }
   ],
   "source": [
    "#1) build a TreeTagger wrapper:\n",
    "tagger = treetaggerwrapper.TreeTagger(TAGLANG='en')\n",
    "#2) tag your text.\n",
    "tags = tagger.tag_text(\"This is a very short text to tag.\")\n",
    "#3) use the tags list... (list of string output from TreeTagger).\n",
    "pprint.pprint(tags)"
   ]
  },
  {
   "cell_type": "code",
   "execution_count": null,
   "id": "disabled-fourth",
   "metadata": {},
   "outputs": [],
   "source": []
  }
 ],
 "metadata": {
  "kernelspec": {
   "display_name": "Python 3",
   "language": "python",
   "name": "python3"
  },
  "language_info": {
   "codemirror_mode": {
    "name": "ipython",
    "version": 3
   },
   "file_extension": ".py",
   "mimetype": "text/x-python",
   "name": "python",
   "nbconvert_exporter": "python",
   "pygments_lexer": "ipython3",
   "version": "3.9.2"
  }
 },
 "nbformat": 4,
 "nbformat_minor": 5
}
