{
 "cells": [
  {
   "cell_type": "code",
   "execution_count": 1,
   "id": "completed-foster",
   "metadata": {
    "ExecuteTime": {
     "end_time": "2021-06-01T06:58:29.043390Z",
     "start_time": "2021-06-01T06:58:28.396430Z"
    }
   },
   "outputs": [
    {
     "ename": "ModuleNotFoundError",
     "evalue": "No module named 'treetagger'",
     "output_type": "error",
     "traceback": [
      "\u001b[0;31m---------------------------------------------------------------------------\u001b[0m",
      "\u001b[0;31mModuleNotFoundError\u001b[0m                       Traceback (most recent call last)",
      "\u001b[0;32m<ipython-input-1-db3898469998>\u001b[0m in \u001b[0;36m<module>\u001b[0;34m\u001b[0m\n\u001b[1;32m      1\u001b[0m \u001b[0;32mimport\u001b[0m \u001b[0mpprint\u001b[0m   \u001b[0;31m# For proper print of sequences.\u001b[0m\u001b[0;34m\u001b[0m\u001b[0;34m\u001b[0m\u001b[0m\n\u001b[0;32m----> 2\u001b[0;31m \u001b[0;32mfrom\u001b[0m \u001b[0mtreetagger\u001b[0m \u001b[0;32mimport\u001b[0m \u001b[0mTreeTagger\u001b[0m\u001b[0;34m\u001b[0m\u001b[0;34m\u001b[0m\u001b[0m\n\u001b[0m\u001b[1;32m      3\u001b[0m \u001b[0mtt\u001b[0m \u001b[0;34m=\u001b[0m \u001b[0mTreeTagger\u001b[0m\u001b[0;34m(\u001b[0m\u001b[0mpath_to_treetagger\u001b[0m\u001b[0;34m=\u001b[0m\u001b[0;34m'/home/angel/.treetagger/'\u001b[0m\u001b[0;34m,\u001b[0m \u001b[0mlanguage\u001b[0m\u001b[0;34m=\u001b[0m\u001b[0;34m'spanish'\u001b[0m\u001b[0;34m)\u001b[0m\u001b[0;34m\u001b[0m\u001b[0;34m\u001b[0m\u001b[0m\n",
      "\u001b[0;31mModuleNotFoundError\u001b[0m: No module named 'treetagger'"
     ]
    }
   ],
   "source": [
    "import pprint   # For proper print of sequences.\n",
    "from treetagger import TreeTagger\n",
    "tt = TreeTagger(path_to_treetagger='/home/angel/.treetagger/', language='spanish')"
   ]
  },
  {
   "cell_type": "code",
   "execution_count": 5,
   "id": "official-sound",
   "metadata": {
    "ExecuteTime": {
     "end_time": "2021-04-08T02:05:14.644221Z",
     "start_time": "2021-04-08T02:05:14.615397Z"
    }
   },
   "outputs": [
    {
     "data": {
      "text/plain": [
       "['spanish-ancora', 'english', 'spanish']"
      ]
     },
     "execution_count": 5,
     "metadata": {},
     "output_type": "execute_result"
    }
   ],
   "source": [
    "tt.get_installed_lang()"
   ]
  },
  {
   "cell_type": "code",
   "execution_count": null,
   "id": "disabled-fourth",
   "metadata": {
    "ExecuteTime": {
     "end_time": "2021-04-08T02:04:48.555580Z",
     "start_time": "2021-04-08T02:04:47.165Z"
    }
   },
   "outputs": [],
   "source": [
    "tt.tag('Hola, veamos como sale')"
   ]
  },
  {
   "cell_type": "code",
   "execution_count": null,
   "id": "employed-cattle",
   "metadata": {},
   "outputs": [],
   "source": []
  }
 ],
 "metadata": {
  "kernelspec": {
   "display_name": "Python 3",
   "language": "python",
   "name": "python3"
  },
  "language_info": {
   "codemirror_mode": {
    "name": "ipython",
    "version": 3
   },
   "file_extension": ".py",
   "mimetype": "text/x-python",
   "name": "python",
   "nbconvert_exporter": "python",
   "pygments_lexer": "ipython3",
   "version": "3.9.5"
  }
 },
 "nbformat": 4,
 "nbformat_minor": 5
}
