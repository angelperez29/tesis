{
 "cells": [
  {
   "cell_type": "code",
   "execution_count": 4,
   "id": "completed-foster",
   "metadata": {
    "ExecuteTime": {
     "end_time": "2021-04-08T02:05:13.592864Z",
     "start_time": "2021-04-08T02:05:13.579284Z"
    }
   },
   "outputs": [],
   "source": [
    "import pprint   # For proper print of sequences.\n",
    "from treetagger import TreeTagger\n",
    "tt = TreeTagger(path_to_treetagger='/home/angel/.treetagger/', language='spanish')"
   ]
  },
  {
   "cell_type": "code",
   "execution_count": 5,
   "id": "official-sound",
   "metadata": {
    "ExecuteTime": {
     "end_time": "2021-04-08T02:05:14.644221Z",
     "start_time": "2021-04-08T02:05:14.615397Z"
    }
   },
   "outputs": [
    {
     "data": {
      "text/plain": [
       "['spanish-ancora', 'english', 'spanish']"
      ]
     },
     "execution_count": 5,
     "metadata": {},
     "output_type": "execute_result"
    }
   ],
   "source": [
    "tt.get_installed_lang()"
   ]
  },
  {
   "cell_type": "code",
   "execution_count": null,
   "id": "disabled-fourth",
   "metadata": {
    "ExecuteTime": {
     "end_time": "2021-04-08T02:04:48.555580Z",
     "start_time": "2021-04-08T02:04:47.165Z"
    }
   },
   "outputs": [],
   "source": [
    "tt.tag('Hola, veamos como sale')"
   ]
  },
  {
   "cell_type": "code",
   "execution_count": null,
   "id": "employed-cattle",
   "metadata": {},
   "outputs": [],
   "source": []
  }
 ],
 "metadata": {
  "kernelspec": {
   "display_name": "Python 3",
   "language": "python",
   "name": "python3"
  },
  "language_info": {
   "codemirror_mode": {
    "name": "ipython",
    "version": 3
   },
   "file_extension": ".py",
   "mimetype": "text/x-python",
   "name": "python",
   "nbconvert_exporter": "python",
   "pygments_lexer": "ipython3",
   "version": "3.9.2"
  }
 },
 "nbformat": 4,
 "nbformat_minor": 5
}
