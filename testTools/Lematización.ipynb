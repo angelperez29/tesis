{
 "cells": [
  {
   "cell_type": "code",
   "execution_count": 8,
   "id": "specialized-campus",
   "metadata": {
    "ExecuteTime": {
     "end_time": "2021-04-08T04:19:46.417724Z",
     "start_time": "2021-04-08T04:19:45.711960Z"
    }
   },
   "outputs": [],
   "source": [
    "import spacy as sp, pandas as pd"
   ]
  },
  {
   "cell_type": "code",
   "execution_count": 9,
   "id": "ideal-reconstruction",
   "metadata": {
    "ExecuteTime": {
     "end_time": "2021-04-08T04:19:49.537089Z",
     "start_time": "2021-04-08T04:19:48.888643Z"
    }
   },
   "outputs": [],
   "source": [
    "nlp = spacy.load('es_core_news_sm')"
   ]
  },
  {
   "cell_type": "code",
   "execution_count": 24,
   "id": "supposed-better",
   "metadata": {
    "ExecuteTime": {
     "end_time": "2021-04-08T04:37:08.997993Z",
     "start_time": "2021-04-08T04:37:08.981572Z"
    }
   },
   "outputs": [],
   "source": [
    "df = pd.read_csv('../dataset/comments_1617856607699.csv')"
   ]
  },
  {
   "cell_type": "code",
   "execution_count": 30,
   "id": "allied-sheffield",
   "metadata": {
    "ExecuteTime": {
     "end_time": "2021-04-08T04:42:47.962466Z",
     "start_time": "2021-04-08T04:42:47.956184Z"
    }
   },
   "outputs": [],
   "source": [
    "import emoji\n",
    "\n",
    "def deEmojify(text):\n",
    "    return emoji.get_emoji_regexp().sub(r'', text.encode().decode('utf8'))"
   ]
  },
  {
   "cell_type": "code",
   "execution_count": 32,
   "id": "vietnamese-packet",
   "metadata": {
    "ExecuteTime": {
     "end_time": "2021-04-08T04:51:16.904535Z",
     "start_time": "2021-04-08T04:51:16.865895Z"
    }
   },
   "outputs": [
    {
     "name": "stdout",
     "output_type": "stream",
     "text": [
      "\n",
      "    Text: \n",
      "    Len: 0\n",
      "\n",
      "    Text: ️\n",
      "    Len: 1\n",
      "\n",
      "    Text: ️ ️ ️\n",
      "    Len: 5\n",
      "\n",
      "    Text: You are the most beautiful girl in the world, princess️\n",
      "    Len: 55\n",
      "\n",
      "    Text: \n",
      "    Len: 0\n",
      "\n",
      "    Text: ️️️️️\n",
      "    Len: 5\n",
      "\n",
      "    Text: Y arriba reynosa que tiene mujeres muy buenas \n",
      "    Len: 46\n",
      "\n",
      "    Text: \n",
      "    Len: 0\n",
      "\n",
      "    Text: Nalgas lindas\n",
      "    Len: 13\n",
      "\n",
      "    Text: \n",
      "    Len: 0\n",
      "\n",
      "    Text: Hola\n",
      "    Len: 4\n",
      "\n",
      "    Text: ️\n",
      "    Len: 1\n",
      "\n",
      "    Text: \n",
      "    Len: 0\n",
      "\n",
      "    Text: Ola\n",
      "    Len: 3\n",
      "\n",
      "    Text: \n",
      "    Len: 0\n",
      "\n",
      "    Text: Admiro tus publicaciones y lo hermosa que eres Quiero escribir un poema o una canción para ti\n",
      "    Len: 93\n",
      "\n",
      "    Text: Preciosa ️️️\n",
      "    Len: 12\n",
      "\n",
      "    Text: \n",
      "    Len: 0\n",
      "\n",
      "    Text: \n",
      "    Len: 0\n",
      "\n",
      "    Text: مهنازهستم اینم شمارم۰۹۳۶۴۹۶۸۵۹۳برنامه نقد\n",
      "    Len: 41\n",
      "\n",
      "    Text: He visto muchas mujeres bellas pero como tú no hay nadie igual. Te quedaste grabada en mis pupilas y en mi corazón ocupas el lugar más especial. ¡Eres perfecta!”. :: “No exagero cuando te digo lo bella que eres y no me cansaré de decirlo una y mil veces más.\n",
      "    Len: 258\n",
      "\n",
      "    Text: Te lo comia todo\n",
      "    Len: 16\n",
      "\n",
      "    Text: \n",
      "    Len: 0\n",
      "\n",
      "    Text: Vaya cuerpo \n",
      "    Len: 12\n",
      "\n",
      "    Text: ️️️️️️️️️️️️️\n",
      "    Len: 13\n",
      "\n",
      "    Text: Your my jackpot️️\n",
      "    Len: 17\n",
      "\n",
      "    Text: Ummmm\n",
      "    Len: 5\n",
      "\n",
      "    Text: Emprende con Social Selling Oriflame nro1 en Europa. SIN INVERSIÓN \n",
      " 3 formas simples e inteligentes de Asociarse  en ORIFLAME \n",
      " Asociado Consumidor: Desde 25% y 35% de ahorro\n",
      "Compra lo que necesites\n",
      "Compra cuando lo necesites\n",
      "Asociado Vendedor: Desde 25% y 35% de ganancia\n",
      "Ofertas y premios\n",
      "Sin compra mínima, sin stock y sin endeudarse\n",
      "Emprendedor Asociado: Además de Ganancias de 3% a 21% por consumo de la red\n",
      "Bonos Adicionales en dólares\n",
      "Reconocimientos\n",
      "17 Sueldos al año.\n",
      "Construye tu negocio YA!! más información aqui :\n",
      "    Len: 526\n",
      "\n",
      "    Text: Bella hasta morír!  Escríbeme por fa????\n",
      "    Len: 40\n",
      "\n",
      "    Text: I see that donk\n",
      "    Len: 15\n",
      "\n",
      "    Text: Bonita\n",
      "    Len: 6\n",
      "\n",
      "    Text: ️️️\n",
      "    Len: 3\n",
      "\n",
      "    Text: Wow señorita.\n",
      "    Len: 13\n",
      "\n",
      "    Text: Con todo respeto que hermosa estás\n",
      "    Len: 34\n",
      "\n",
      "    Text: Hermosaaa aleida ..\n",
      "    Len: 19\n",
      "\n",
      "    Text: Follow me & seen my page please @fitnesslover_757\n",
      "    Len: 49\n",
      "\n",
      "    Text: Que hermosa eres chica️️️\n",
      "    Len: 25\n",
      "\n",
      "    Text: ️\n",
      "    Len: 1\n",
      "\n",
      "    Text: Perfect ten wow ️\n",
      "    Len: 17\n",
      "\n",
      "    Text: very very sixy\n",
      "    Len: 14\n",
      "\n",
      "    Text: Espejito espejito... ️\n",
      "    Len: 22\n",
      "\n",
      "    Text: Hola chiquita\n",
      "    Len: 13\n",
      "\n",
      "    Text: ️️️️\n",
      "    Len: 4\n",
      "\n",
      "    Text: ️\n",
      "    Len: 1\n",
      "\n",
      "    Text: Beauty legs (hermoso ingenio tienes para dejar ver esas piernas tan lindas)\n",
      "    Len: 75\n",
      "\n",
      "    Text: \n",
      "    Len: 0\n",
      "\n",
      "    Text: ️️️\n",
      "    Len: 3\n",
      "\n",
      "    Text: ️\n",
      "    Len: 1\n",
      "\n",
      "    Text: ️️️\n",
      "    Len: 3\n",
      "\n",
      "    Text: Me encantó️️\n",
      "    Len: 12\n"
     ]
    }
   ],
   "source": [
    "for text in df.text:\n",
    "    text = deEmojify(str(text))\n",
    "    print(f'''\n",
    "    Text: {text}\n",
    "    Len: {len(text)}''')"
   ]
  },
  {
   "cell_type": "code",
   "execution_count": 4,
   "id": "involved-italy",
   "metadata": {
    "ExecuteTime": {
     "end_time": "2021-04-08T03:38:31.478285Z",
     "start_time": "2021-04-08T03:38:31.472043Z"
    }
   },
   "outputs": [],
   "source": [
    "text = \"\"\"Soy un texto. Normalmente soy más largo y más grande. Que no te engañe mi tamaño.\"\"\""
   ]
  },
  {
   "cell_type": "code",
   "execution_count": 5,
   "id": "derived-plant",
   "metadata": {
    "ExecuteTime": {
     "end_time": "2021-04-08T03:38:39.873828Z",
     "start_time": "2021-04-08T03:38:39.837238Z"
    }
   },
   "outputs": [],
   "source": [
    "doc = nlp(text) # Crea un objeto de spacy tipo nlp"
   ]
  },
  {
   "cell_type": "code",
   "execution_count": 6,
   "id": "moved-maldives",
   "metadata": {
    "ExecuteTime": {
     "end_time": "2021-04-08T03:38:49.896487Z",
     "start_time": "2021-04-08T03:38:49.891552Z"
    }
   },
   "outputs": [],
   "source": [
    "tokens = [t.orth_ for t in doc]"
   ]
  },
  {
   "cell_type": "code",
   "execution_count": 7,
   "id": "individual-option",
   "metadata": {
    "ExecuteTime": {
     "end_time": "2021-04-08T03:38:54.065923Z",
     "start_time": "2021-04-08T03:38:54.043508Z"
    }
   },
   "outputs": [
    {
     "data": {
      "text/plain": [
       "['Soy',\n",
       " 'un',\n",
       " 'texto',\n",
       " '.',\n",
       " 'Normalmente',\n",
       " 'soy',\n",
       " 'más',\n",
       " 'largo',\n",
       " 'y',\n",
       " 'más',\n",
       " 'grande',\n",
       " '.',\n",
       " 'Que',\n",
       " 'no',\n",
       " 'te',\n",
       " 'engañe',\n",
       " 'mi',\n",
       " 'tamaño',\n",
       " '.']"
      ]
     },
     "execution_count": 7,
     "metadata": {},
     "output_type": "execute_result"
    }
   ],
   "source": [
    "tokens"
   ]
  },
  {
   "cell_type": "code",
   "execution_count": null,
   "id": "coastal-vegetarian",
   "metadata": {},
   "outputs": [],
   "source": []
  }
 ],
 "metadata": {
  "kernelspec": {
   "display_name": "Python 3",
   "language": "python",
   "name": "python3"
  },
  "language_info": {
   "codemirror_mode": {
    "name": "ipython",
    "version": 3
   },
   "file_extension": ".py",
   "mimetype": "text/x-python",
   "name": "python",
   "nbconvert_exporter": "python",
   "pygments_lexer": "ipython3",
   "version": "3.9.2"
  }
 },
 "nbformat": 4,
 "nbformat_minor": 5
}
