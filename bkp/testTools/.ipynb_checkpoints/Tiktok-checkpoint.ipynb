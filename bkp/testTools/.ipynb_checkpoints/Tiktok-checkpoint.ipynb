{
 "cells": [
  {
   "cell_type": "code",
   "execution_count": 1,
   "id": "8baa62e7",
   "metadata": {
    "ExecuteTime": {
     "end_time": "2021-06-01T14:13:21.986792Z",
     "start_time": "2021-06-01T14:13:21.189802Z"
    }
   },
   "outputs": [],
   "source": [
    "import selenium\n",
    "from selenium import webdriver\n",
    "from webdriver_manager.chrome import ChromeDriverManager"
   ]
  },
  {
   "cell_type": "code",
   "execution_count": 2,
   "id": "b6a8e410",
   "metadata": {
    "ExecuteTime": {
     "end_time": "2021-06-01T14:13:44.568216Z",
     "start_time": "2021-06-01T14:13:38.781103Z"
    }
   },
   "outputs": [
    {
     "name": "stderr",
     "output_type": "stream",
     "text": [
      "\n",
      "\n",
      "====== WebDriver manager ======\n",
      "Current google-chrome version is 91.0.4472\n",
      "Get LATEST driver version for 91.0.4472\n",
      "There is no [linux64] chromedriver for browser 91.0.4472 in cache\n",
      "Get LATEST driver version for 91.0.4472\n",
      "Trying to download new driver from https://chromedriver.storage.googleapis.com/91.0.4472.19/chromedriver_linux64.zip\n",
      "Driver has been saved in cache [/home/angel/.wdm/drivers/chromedriver/linux64/91.0.4472.19]\n"
     ]
    }
   ],
   "source": [
    "driver = webdriver.Chrome(ChromeDriverManager().install())"
   ]
  },
  {
   "cell_type": "code",
   "execution_count": 4,
   "id": "e0ed3c0f",
   "metadata": {
    "ExecuteTime": {
     "end_time": "2021-06-01T14:17:10.131547Z",
     "start_time": "2021-06-01T14:17:00.407412Z"
    }
   },
   "outputs": [],
   "source": [
    "driver.get('https://www.tiktok.com/@era_ays/video/6955918163003428098?is_from_webapp=v1')"
   ]
  },
  {
   "cell_type": "code",
   "execution_count": 7,
   "id": "82fe1936",
   "metadata": {
    "ExecuteTime": {
     "end_time": "2021-06-01T14:24:07.625486Z",
     "start_time": "2021-06-01T14:24:05.895584Z"
    }
   },
   "outputs": [],
   "source": [
    "TEXT = driver.find_element_by_xpath('/html/body/div[1]/div/div[2]/div[2]/div/div/main/div/div[2]/div[2]/div[3]/div').text"
   ]
  },
  {
   "cell_type": "code",
   "execution_count": 9,
   "id": "85f33e4d",
   "metadata": {
    "ExecuteTime": {
     "end_time": "2021-06-01T14:24:29.044905Z",
     "start_time": "2021-06-01T14:24:28.999479Z"
    }
   },
   "outputs": [
    {
     "name": "stdout",
     "output_type": "stream",
     "text": [
      "S-geovanny.10\n",
      "nice lo robe la funda 😎\n",
      "4-28\n",
      "Responder\n",
      "Ver más respuestas (1)\n",
      "Jeremy Gamaliel\n",
      "PRImero\n",
      "4-27\n",
      "Responder\n",
      "adrs425\n",
      "es el protector del cel\n",
      "4-29\n",
      "Responder\n",
      "2\n",
      "HELLO\n",
      "Oye\n",
      "4-27\n",
      "Responder\n",
      "3\n",
      "edites _st\n",
      "primis\n",
      "4-27\n",
      "Responder\n",
      "10\n",
      "منتظر منتظر\n",
      "ما اسمك ممكن رد🥺🥺\n",
      "4-27\n",
      "Responder\n",
      "6\n",
      "Ver más respuestas (11)\n",
      "Almas Aslam865\n",
      "I didn't knew you both liked phone cover more tha a phone\n",
      "4-27\n",
      "Responder\n",
      "41\n",
      "Ver más respuestas (6)\n",
      "..\n",
      "اول عربيه ماكو ترهيب🙂🌚\n",
      "4-27\n",
      "Responder\n",
      "17\n",
      "Ver más respuestas (5)\n",
      "Адам Топ\n",
      "я\n",
      "4-27\n",
      "Responder\n",
      "6\n",
      "BEKA\n",
      "Поздравляю с 20 М ЖЕЛАЮ ДАЛЬНЕЙШИХ УСПЕХОВ🥰🥰\n",
      "4-28\n",
      "Responder\n",
      "4\n",
      "Ver más respuestas (1)\n",
      "La plus mimi 🥰 du monde 🌍🥰\n",
      "Non\n",
      "4-29\n",
      "Responder\n",
      "3\n",
      "Jujules👋😁\n",
      "Hi 👋😁👋\n",
      "4-27\n",
      "Responder\n",
      "8\n",
      "Ver más respuestas (1)\n",
      "ШЮЬкы49зө\n",
      "Hello\n",
      "4-27\n",
      "Responder\n",
      "9\n",
      "❤️❤️💖\n",
      "Einfach diese Handy Hülle 😂\n",
      "4-29\n",
      "Responder\n",
      "6\n",
      "Ver más respuestas (1)\n",
      "Кайон🦁\n",
      "я первая 😂😂\n",
      "4-27\n",
      "Responder\n",
      "3\n",
      "hondureño papá🇭🇳❤️\n",
      "что-то типичное для России\n",
      "4-27\n",
      "Responder\n",
      "12\n",
      "cellat_ kızıyız😈😈CELKIZZZ💜\n",
      "Я очень рада, что украла чехол для телефона😂😂😂😂\n",
      "5-9\n",
      "Responder\n",
      "2\n",
      "Ver más respuestas (1)\n",
      "Reon Boyd\n",
      "first\n",
      "4-27\n",
      "Responder\n",
      "7\n",
      "محمد\n",
      "ترا كفرات ركزو\n",
      "4-27\n",
      "Responder\n",
      "3\n",
      "Ver más respuestas (1)\n",
      "Krasav4ik\n",
      "Можно медальку?\n",
      "4-27\n",
      "Responder\n",
      "5\n",
      "Ver más respuestas (2)\n"
     ]
    }
   ],
   "source": [
    "print(TEXT)"
   ]
  },
  {
   "cell_type": "code",
   "execution_count": null,
   "id": "2573fa8c",
   "metadata": {},
   "outputs": [],
   "source": []
  }
 ],
 "metadata": {
  "kernelspec": {
   "display_name": "Python 3",
   "language": "python",
   "name": "python3"
  },
  "language_info": {
   "codemirror_mode": {
    "name": "ipython",
    "version": 3
   },
   "file_extension": ".py",
   "mimetype": "text/x-python",
   "name": "python",
   "nbconvert_exporter": "python",
   "pygments_lexer": "ipython3",
   "version": "3.9.5"
  }
 },
 "nbformat": 4,
 "nbformat_minor": 5
}
