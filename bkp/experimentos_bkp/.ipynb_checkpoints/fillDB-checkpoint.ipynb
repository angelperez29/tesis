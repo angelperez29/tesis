{
 "cells": [
  {
   "cell_type": "code",
   "execution_count": 1,
   "id": "bf113e35",
   "metadata": {
    "ExecuteTime": {
     "end_time": "2021-06-27T19:42:03.275871Z",
     "start_time": "2021-06-27T19:41:57.827911Z"
    }
   },
   "outputs": [],
   "source": [
    "from pymongo import MongoClient\n",
    "import pandas as pd"
   ]
  },
  {
   "cell_type": "code",
   "execution_count": 2,
   "id": "832f9957",
   "metadata": {
    "ExecuteTime": {
     "end_time": "2021-06-27T19:42:03.684294Z",
     "start_time": "2021-06-27T19:42:03.286172Z"
    }
   },
   "outputs": [],
   "source": [
    "# URL con la que hacemos la conexión con MongoDB\n",
    "MONGO_URI = \"mongodb://127.0.0.1\"\n",
    "# Cliente con el que nos conectaremos con MongoDB\n",
    "client = MongoClient(MONGO_URI)\n",
    "# Base de datos a utilizar\n",
    "db = client.tesis\n",
    "# Colección en donde almacenaremos los datos\n",
    "tweets = db[\"tweets\"]\n",
    "# Almacenamos los datos en un dataframe\n",
    "df = pd.read_csv('../../../data/dataset_tesis/twitter/mergeData.csv')"
   ]
  },
  {
   "cell_type": "code",
   "execution_count": 3,
   "id": "42c04ae9",
   "metadata": {
    "ExecuteTime": {
     "end_time": "2021-06-17T21:21:06.725254Z",
     "start_time": "2021-06-17T21:21:06.697389Z"
    }
   },
   "outputs": [],
   "source": [
    "# Generamos la lista en donde almacenaremos todos los datos de nuestra DB\n",
    "data = []\n",
    "for _id, tweet in zip(df['Tweet ID'], df['Tweet Text']):\n",
    "    temp = {\n",
    "        \"_id\": _id,\n",
    "        \"tweet\": tweet,\n",
    "        \"evaluation\": []\n",
    "    }\n",
    "    data.append(temp)"
   ]
  },
  {
   "cell_type": "code",
   "execution_count": 4,
   "id": "1954c4dd",
   "metadata": {
    "ExecuteTime": {
     "end_time": "2021-06-17T21:21:08.783010Z",
     "start_time": "2021-06-17T21:21:08.673380Z"
    }
   },
   "outputs": [
    {
     "name": "stdout",
     "output_type": "stream",
     "text": [
      "Se cargo exitosamente\n"
     ]
    }
   ],
   "source": [
    "if tweets.insert_many(data).acknowledged:\n",
    "    print(\"Se cargo exitosamente\")\n",
    "else:\n",
    "    print(\"Error al cargarse DB\")"
   ]
  },
  {
   "cell_type": "code",
   "execution_count": 3,
   "id": "727c26de",
   "metadata": {
    "ExecuteTime": {
     "end_time": "2021-06-27T19:42:23.720232Z",
     "start_time": "2021-06-27T19:42:23.665368Z"
    }
   },
   "outputs": [
    {
     "data": {
      "text/plain": [
       "'\"Cuando Rubí es asesinada por su novio, Marisela inicia una cruzada para lograr la captura y el juicio del homicida de su hija”. - Documental \"Las tres muertes de Marisela Escobedo\", #Netflix #Feminicidio #JusticiaParaTodas #NiUnaMas #NiUnaMenos'"
      ]
     },
     "execution_count": 3,
     "metadata": {},
     "output_type": "execute_result"
    }
   ],
   "source": [
    "df['Tweet Text'][0]"
   ]
  },
  {
   "cell_type": "code",
   "execution_count": null,
   "id": "e3da4ad4",
   "metadata": {},
   "outputs": [],
   "source": []
  }
 ],
 "metadata": {
  "kernelspec": {
   "display_name": "Python 3",
   "language": "python",
   "name": "python3"
  },
  "language_info": {
   "codemirror_mode": {
    "name": "ipython",
    "version": 3
   },
   "file_extension": ".py",
   "mimetype": "text/x-python",
   "name": "python",
   "nbconvert_exporter": "python",
   "pygments_lexer": "ipython3",
   "version": "3.9.6"
  }
 },
 "nbformat": 4,
 "nbformat_minor": 5
}
